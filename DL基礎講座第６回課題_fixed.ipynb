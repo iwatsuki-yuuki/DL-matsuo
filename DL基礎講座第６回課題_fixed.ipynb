{
  "nbformat": 4,
  "nbformat_minor": 0,
  "metadata": {
    "colab": {
      "provenance": [],
      "gpuType": "T4"
    },
    "kernelspec": {
      "name": "python3",
      "display_name": "Python 3"
    },
    "language_info": {
      "name": "python"
    },
    "accelerator": "GPU"
  },
  "cells": [
    {
      "cell_type": "markdown",
      "source": [
        "# 第6回講義 宿題"
      ],
      "metadata": {
        "id": "6gQ1d6lfrMNb"
      }
    },
    {
      "cell_type": "markdown",
      "source": [
        "## 課題\n",
        "今Lessonで学んだことに工夫を加えて，FCNでより高性能なVOC2011データセットのセグメンテーションモデルを実装しましょう．"
      ],
      "metadata": {
        "id": "CG-HEFwRrUuD"
      }
    },
    {
      "cell_type": "markdown",
      "source": [
        "## 目標値\n",
        "mean-IoU 0.4"
      ],
      "metadata": {
        "id": "nB3Sh1_breGD"
      }
    },
    {
      "cell_type": "markdown",
      "source": [
        "## ルール\n",
        "- 訓練データは`x_train`，`t_train`，テストデータは`x_test`で与えられます．\n",
        "- 予測結果は，(21, 224, 224)のセグメンテーションマスクとしてください．\n",
        "- **下のセルで指定されている`x_train`，`t_train`以外の学習データは使わないでください．**\n",
        "-　事前学習モデルの利用は,\n",
        "backboneでの使用のみ可とします．\n",
        "    - torchvision.models.segmentation で提供されているような，ライブラリで実装されている FCN の利用は禁止とします．"
      ],
      "metadata": {
        "id": "8B3GEbgrrhCM"
      }
    },
    {
      "cell_type": "markdown",
      "source": [
        "## 提出方法\n",
        "\n",
        "- 2つのファイルを提出していただきます．\n",
        "    1. テストデータ (`x_test`) に対する予測マスクを`submission_pred.npy`として保存し，**Omnicampusの宿題タブから「第6回 深層学習と画像認識」を選択して**提出してください．\n",
        "    2. それに対応するpythonのコードを`submission_code.py`として保存し，**Omnicampusの宿題タブから「第6回 深層学習と画像認識 (code)」を選択して**提出してください．pythonファイル自体の提出ではなく，「提出内容」の部分にコードをコピー&ペーストしてください．\n",
        "      \n",
        "- なお，採点は1で行い，2はコードの確認用として利用します（成績優秀者はコード内容を公開させていただくかもしれません）．コードの内容を変更した場合は，**1と2の両方を提出し直してください**．"
      ],
      "metadata": {
        "id": "kwFIO0jur4I_"
      }
    },
    {
      "cell_type": "markdown",
      "source": [
        "### 評価方法\n",
        "\n",
        "- 予測ラベルの`t_test`に対するmean-IoUで評価します．\n",
        "- 即時採点しLeader Boardを更新します（採点スケジュールは別アナウンス）．\n",
        "- 締切時の点数を最終的な評価とします．"
      ],
      "metadata": {
        "id": "pYqDdAKRsmZz"
      }
    },
    {
      "cell_type": "code",
      "source": [
        "# ドライブのマウント\n",
        "from google.colab import drive\n",
        "drive.mount('/content/drive')"
      ],
      "metadata": {
        "id": "xQtf3UvoA2QE",
        "colab": {
          "base_uri": "https://localhost:8080/"
        },
        "outputId": "154af314-1384-4a35-d4de-b9f18079c83e"
      },
      "execution_count": 26,
      "outputs": [
        {
          "output_type": "stream",
          "name": "stdout",
          "text": [
            "Drive already mounted at /content/drive; to attempt to forcibly remount, call drive.mount(\"/content/drive\", force_remount=True).\n"
          ]
        }
      ]
    },
    {
      "cell_type": "markdown",
      "source": [
        "### データの読み込み（この部分は修正しないでください）"
      ],
      "metadata": {
        "id": "hYewObFvRLyq"
      }
    },
    {
      "cell_type": "code",
      "source": [
        "import random\n",
        "\n",
        "import numpy as np\n",
        "import pandas as pd\n",
        "import torch\n",
        "from torchvision import transforms\n",
        "from tqdm import tqdm_notebook as tqdm\n",
        "from PIL import Image\n",
        "from sklearn.model_selection import train_test_split\n",
        "\n",
        "#学習データ\n",
        "x_train = np.load('drive/MyDrive/Colab Notebooks/DLBasics2025_colab/Lecture06/data/x_train.npy', allow_pickle=True)\n",
        "t_train = np.load('drive/MyDrive/Colab Notebooks/DLBasics2025_colab/Lecture06/data/t_train.npy', allow_pickle=True)\n",
        "\n",
        "#テストデータ\n",
        "x_test = np.load('drive/MyDrive/Colab Notebooks/DLBasics2025_colab/Lecture06/data/x_test.npy', allow_pickle=True)\n",
        "\n",
        "# 実装の都合上，コンストラクタ内で画像をリサイズ\n",
        "class train_dataset(torch.utils.data.Dataset):\n",
        "    def __init__(self, x_train, t_train):\n",
        "        self.x_train = []\n",
        "        self.t_train = []\n",
        "        for i in range(x_train.shape[0]):\n",
        "            self.x_train.append(transforms.Resize((224, 224))(Image.fromarray(np.uint8(x_train[i]))))\n",
        "            self.t_train.append(transforms.Resize((224, 224))(Image.fromarray(np.uint8(t_train[i]))))\n",
        "        self.transform = transforms.ToTensor()\n",
        "        self.target_transform = transforms.ToTensor()\n",
        "\n",
        "    def __len__(self):\n",
        "        return len(self.x_train)\n",
        "\n",
        "    def __getitem__(self, idx):\n",
        "        return self.transform(self.x_train[idx]), self.target_transform(self.t_train[idx])\n",
        "\n",
        "class test_dataset(torch.utils.data.Dataset):\n",
        "    def __init__(self, x_test):\n",
        "        self.x_test = []\n",
        "        for i in range(x_test.shape[0]):\n",
        "            self.x_test.append(transforms.Resize((224, 224))(Image.fromarray(np.uint8(x_test[i]))))\n",
        "        self.transform = transforms.ToTensor()\n",
        "\n",
        "    def __len__(self):\n",
        "        return len(self.x_test)\n",
        "\n",
        "    def __getitem__(self, idx):\n",
        "        return self.transform(self.x_test[idx])\n",
        "\n",
        "trainval_data = train_dataset(x_train, t_train)\n",
        "test_data = test_dataset(x_test)"
      ],
      "metadata": {
        "id": "BG30XU18skJq"
      },
      "execution_count": 27,
      "outputs": []
    },
    {
      "cell_type": "markdown",
      "source": [
        "### FCN の実装"
      ],
      "metadata": {
        "id": "VosD3NNdxp6u"
      }
    },
    {
      "cell_type": "code",
      "source": [
        "import torch\n",
        "from torch import nn\n",
        "from torch import optim\n",
        "import torch.nn.functional as F\n",
        "import torchvision\n",
        "\n",
        "device = 'cuda' if torch.cuda.is_available() else 'cpu'\n",
        "print(device)"
      ],
      "metadata": {
        "id": "YObUlV1ExsaU",
        "colab": {
          "base_uri": "https://localhost:8080/"
        },
        "outputId": "403cf205-430b-4488-dcc5-4ddfddc5018f"
      },
      "execution_count": 28,
      "outputs": [
        {
          "output_type": "stream",
          "name": "stdout",
          "text": [
            "cuda\n"
          ]
        }
      ]
    },
    {
      "cell_type": "code",
      "source": [
        "def fix_seed(seed=1234):\n",
        "    random.seed(seed)\n",
        "    np.random.seed(seed)\n",
        "    torch.manual_seed(seed)\n",
        "\n",
        "\n",
        "fix_seed(seed=42)\n",
        "\n",
        "# データの分割\n",
        "val_size = 100\n",
        "train_data, val_data = torch.utils.data.random_split(trainval_data, [len(trainval_data)-val_size, val_size])  # 訓練データと検証データに分割\n",
        "\n",
        "num_classes = 21\n",
        "\n",
        "# 前処理の定義\n",
        "def TargetToTensor(target):\n",
        "    target = np.array(target)\n",
        "    target[target > 20] = 0 # labelを0-20の合計21クラスに限定（objectのエッジを消す）\n",
        "    target = torch.from_numpy(target).type(torch.long)\n",
        "    target = F.one_hot(target, num_classes=num_classes).permute(2,0,1).type(torch.float)\n",
        "    return target  # (21, 224, 224)\n",
        "\n",
        "image_transform = transforms.Compose([\n",
        "    transforms.ToTensor(),\n",
        "])\n",
        "target_transform = transforms.Compose([\n",
        "    transforms.Lambda(lambda target: TargetToTensor(target))\n",
        "])\n",
        "\n",
        "trainval_data.transform = image_transform\n",
        "trainval_data.target_transform = target_transform\n",
        "test_data.transform = image_transform\n",
        "\n",
        "batch_size=16\n",
        "\n",
        "# dataloaderの定義\n",
        "dataloader_train = torch.utils.data.DataLoader(\n",
        "    train_data,\n",
        "    batch_size=batch_size,\n",
        "    shuffle=True\n",
        ")\n",
        "dataloader_valid = torch.utils.data.DataLoader(\n",
        "    val_data,\n",
        "    batch_size=batch_size,\n",
        "    shuffle=False\n",
        ")\n",
        "dataloader_test = torch.utils.data.DataLoader(\n",
        "    test_data,\n",
        "    batch_size=batch_size,\n",
        "    shuffle=False\n",
        ")"
      ],
      "metadata": {
        "id": "VD1kwabnySKY"
      },
      "execution_count": 29,
      "outputs": []
    },
    {
      "cell_type": "code",
      "source": [
        "# FCNの定義\n",
        "class FCN(nn.Module):\n",
        "    def __init__(self, backbone, num_classes=21):\n",
        "        super(FCN, self).__init__()\n",
        "        # backbone\n",
        "        self.backbone = backbone\n",
        "        # convolution（ちょっとだけ層を前のCNNの実装にならって深くした）\n",
        "        self.FCNhead = nn.Sequential(\n",
        "            nn.Conv2d(2048, 512, 3, padding=1, bias=False),\n",
        "            nn.BatchNorm2d(512),\n",
        "            nn.ReLU(inplace=True),\n",
        "            nn.Conv2d(512, 128, 3, padding=1, bias=False),\n",
        "            nn.BatchNorm2d(128),\n",
        "            nn.ReLU(inplace=True),\n",
        "            nn.Dropout(0.1),\n",
        "            nn.Conv2d(128, num_classes, 1)\n",
        "        )\n",
        "        self.initialize_weights()\n",
        "\n",
        "    def forward(self, x):\n",
        "        input_shape = x.shape[-2:] # shape: (224, 224)\n",
        "        x =  self.backbone(x)\n",
        "        x = self.FCNhead(x)\n",
        "        x = F.interpolate(x, size=input_shape, mode='bilinear', align_corners=False)\n",
        "        return x\n",
        "\n",
        "    # Relu関数前のHe初期値を行う\n",
        "    def initialize_weights(self):  # ← クラスの中で定義\n",
        "        for m in self.FCNhead.modules():\n",
        "            if isinstance(m, nn.Conv2d):\n",
        "                nn.init.kaiming_normal_(m.weight, mode='fan_out', nonlinearity='relu')\n",
        "                if m.bias is not None:\n",
        "                    nn.init.constant_(m.bias, 0)\n",
        "            elif isinstance(m, nn.BatchNorm2d):\n",
        "                nn.init.constant_(m.weight, 1)\n",
        "                nn.init.constant_(m.bias, 0)\n",
        "backbone = torchvision.models.resnet50(pretrained=torchvision.models.ResNet50_Weights.DEFAULT)\n",
        "backbone = nn.Sequential(*list(backbone.children())[:-2])  # GAP層とFC層を外す"
      ],
      "metadata": {
        "id": "AIOMqzWyyyTF"
      },
      "execution_count": 52,
      "outputs": []
    },
    {
      "cell_type": "code",
      "source": [
        "# 下記リンク先のmIoU実装を利用\n",
        "# https://github.com/wkentaro/pytorch-fcn/blob/master/torchfcn/utils.py\n",
        "class mIoUScore(object):\n",
        "    def __init__(self, n_classes):\n",
        "        self.n_classes = n_classes\n",
        "        self.confusion_matrix = np.zeros((n_classes, n_classes))\n",
        "\n",
        "    def _fast_hist(self, label_true, label_pred, n_class):\n",
        "        mask = (label_true >= 0) & (label_true < n_class)\n",
        "        hist = np.bincount(\n",
        "            n_class * label_true[mask].astype(int) + label_pred[mask], minlength=n_class ** 2\n",
        "        ).reshape(n_class, n_class)\n",
        "        return hist\n",
        "\n",
        "    def update(self, label_trues, label_preds):\n",
        "        for lt, lp in zip(label_trues, label_preds):\n",
        "            self.confusion_matrix += self._fast_hist(lt.flatten(), lp.flatten(), self.n_classes)\n",
        "\n",
        "    def get_scores(self):\n",
        "        hist = self.confusion_matrix\n",
        "        with np.errstate(divide='ignore', invalid='ignore'):\n",
        "            iou = np.diag(hist) / (hist.sum(axis=1) + hist.sum(axis=0) - np.diag(hist))\n",
        "        mean_iou = np.nanmean(iou)\n",
        "        return mean_iou\n",
        "\n",
        "    def reset(self):\n",
        "        self.confusion_matrix = np.zeros((self.n_classes, self.n_classes))"
      ],
      "metadata": {
        "id": "iPV5KYtbzK1p"
      },
      "execution_count": 51,
      "outputs": []
    },
    {
      "cell_type": "code",
      "source": [
        "model = FCN(backbone=backbone, num_classes=num_classes)\n",
        "model.to(device)\n",
        "\n",
        "# optimizer, loss function, metricsの定義\n",
        "loss_fn = nn.BCEWithLogitsLoss()\n",
        "metrics = mIoUScore(num_classes)\n",
        "optimizer = optim.AdamW(model.parameters(), lr=1e-4, weight_decay=1e-3)\n",
        "\n",
        "n_epochs = 50"
      ],
      "metadata": {
        "id": "N3g4SYrrzFT-"
      },
      "execution_count": 50,
      "outputs": []
    },
    {
      "cell_type": "code",
      "source": [
        "# modelの学習\n",
        "for epoch in range(n_epochs):\n",
        "    train_losses = []\n",
        "    valid_losses = []\n",
        "    metrics.reset()\n",
        "\n",
        "    model.train()\n",
        "    with tqdm(total=len(dataloader_train), unit=\"batch\") as pbar:\n",
        "        pbar.set_description(f\"[train] Epoch {epoch+1}/{n_epochs}\")\n",
        "        for image, target in dataloader_train:\n",
        "            optimizer.zero_grad()\n",
        "            image, target = image.to(device), target.to(device)\n",
        "            output = model(image)\n",
        "            loss = loss_fn(output, target)\n",
        "            loss.backward()\n",
        "            optimizer.step()\n",
        "            train_losses.append(loss.item())\n",
        "            pbar.set_postfix(loss=np.array(train_losses).mean())\n",
        "            pbar.update(1)\n",
        "\n",
        "    model.eval()\n",
        "    with tqdm(total=len(dataloader_valid), unit=\"batch\") as pbar:\n",
        "        pbar.set_description(f\"[valid] Epoch {epoch+1}/{n_epochs}\")\n",
        "        for image, target in dataloader_valid:\n",
        "            image, target = image.to(device), target.to(device)\n",
        "            output = model(image)\n",
        "            loss = loss_fn(output, target)\n",
        "            valid_losses.append(loss.item())\n",
        "            metrics.update(target.argmax(1).cpu().numpy(), output.argmax(1).cpu().numpy())\n",
        "            pbar.set_postfix(loss=np.array(valid_losses).mean(), mIoU=metrics.get_scores())\n",
        "            pbar.update(1)"
      ],
      "metadata": {
        "id": "-Aw2f94VzOSq",
        "colab": {
          "base_uri": "https://localhost:8080/",
          "height": 1000,
          "referenced_widgets": [
            "bd9583c12c7e41da9788ee10a6b46a9e",
            "6b56308da76448fbad000f7d6543f691",
            "577f4efcf1ba4120ac50141bd7e111b9",
            "9843cfe4b3794f3ea0dfff5f1fc5a125",
            "2b8a1ded76da4e388c173721b953952e",
            "fabb3562cd2b413292b98e9ee6d69a16",
            "11be096d7c564e82ac6c9bdfeb6e5360",
            "60900a4909c9451cbfe33f036bb91e86",
            "795560d94a1f41fba4edb53899c08c88",
            "5b249f3ac1d74400bcfbaca1fa31f1c5",
            "98b6d533fdbb487d9374b2f86040cd83",
            "8b83b5d614d742b0922c4b309c6d35f3",
            "134a7f1d731c4c13a3ebb79f463e0bca",
            "c2eef0ea48284d73bb8dca3673e62d41",
            "93867e279cff434386c40b6a7b8bfc61",
            "9a10e7144d2d4f4bbb23d72cf15447aa",
            "df15026adb404f2f9c3d4db93cc3dc23",
            "5c65fd1c61fe419284f9390518bae685",
            "999acc0cbff94f1483966eed5d25773e",
            "a4e2eec9cc5f4f4ca65d10e1c47a805b",
            "e1d1e157439a4a0080770e34877e1bb4",
            "85dee248ea4b431ab1a67638b6ed98ab",
            "28f97fddacee4f949eb65e4004bb312f",
            "f2501d5c59b14bc38adf6726322979c3",
            "4cd2a45c513448779cf0389e0a1b1467",
            "641b40c7ba78487c862f5f1907f67633",
            "4369ad1939034095b7a46239cc9a7b41",
            "1f37ca10c238407b80dbc07bd7a8a7a3",
            "d008ea6d9e3942088ec83df482f46961",
            "2a87f125f167440aa62584ca3620de1c",
            "7433196b0d1b48ec9bb38430b488c6f6",
            "212a569dba704daabd4def37f145eda6",
            "e84306256edb46e98116bcd730251d0e",
            "9e9ee395b83a4087a765729382480b96",
            "fc6f82c92eee4ce1a4144e3370d92b81",
            "a7e5397572474e3e8a8f0c5fe2d81773",
            "5295383b82a343fa81b5c9313d7a7ebf",
            "ceb46c8c7f0742779255fcb61812207a",
            "a3db5f722b3f4988955062e8b28d449a",
            "1dc6cc2982f94f8f856b169d28da061b",
            "d2d07e32092a4d639d77300aea11bec6",
            "afd605c160ae4fcfb7f28a22fff62aec",
            "ed090bf68d4a43fbaa9ef5728a839db1",
            "d0c78ef06ae1411a9040c89af60028ae",
            "fb3197825a0e4809a895b14ade803cdd",
            "c12d13dc9a434beaacac5ac8865b9a34",
            "69d5fb47849b484fa838191440d44a3a",
            "bdf1c692465e4ecb9e4f5b417adc07d9",
            "ee4f14e2cd66482380cf89915d448638",
            "60f727a000274a42ba1e69f45f1542ce",
            "cca2291af69746efb2bc327dbd02d575",
            "804cd529357c4d5384bb4a73ccb58ea5",
            "b3029a44957c4d869666b2b56c695b9f",
            "7c9a55422fa94c418be3e72f21f4a3b3",
            "fe3ba09a11224367af9dca57fde8e9e6",
            "e5450c67e2814e7293962a6f99c26140",
            "d83fcc9f2bea4ec994a313540cc2fb52",
            "117abc44c19849a1ae8774589a66d096",
            "f1a1aa8f4a774c0a98c6907ada15805a",
            "0f14659029064aa0baa687a2d539170b",
            "cb39fe8682ef492c8e140d8c973bc3e5",
            "c10a8dc3c4c54aa6b751d0dec0a22a82",
            "d1866cabf0714fb6a4f7156a749df73a",
            "cfb942f7ccfa46e8b00607d27a746a34",
            "59769c5486ab4489bcac8905fd8a47a1",
            "06816d558b5d43b5ad70f9ae0609a6b5",
            "9a17addbff754cd1b6bf7364858a30c8",
            "43374fbccd174bd6a15fb3df3b3d6a70",
            "3245065ee03b4c269bab603a81d04158",
            "e41a10d016de4aaf99d4617511cefcca",
            "4621766138754f57865e8a855b96c335",
            "a515f419d60c41d2ae8ffd8e9e0d1264",
            "199bcf628b754be99dd6b3c41dc683e7",
            "66b2eaa7dda3404baff318a9da7f9982",
            "2e3660a9e89147ebb1e646d9c9d01c17",
            "cb6a3df4d41749cea7206c63612d61a2",
            "72bb4b2085d5489db595327969a8af7b",
            "fa1e668de5f64c4184872e0013df5e68",
            "e5adcd11cf764155b0a0dcb4945db576",
            "80e9bc025a3840dfb05820fb645f6358",
            "26a6f3dcb9154e0c84a521de9ca0a283",
            "3c9a8c33f0754ba39497c2eed54475dc",
            "57fb13dfb8014bf68c910238962615a6",
            "fb9b220c136549e4ab146e6cba35d45a",
            "e0f1dea43aee45bf8b257055fcf69cde",
            "039234c024fb4744a0a74361382ed8f3",
            "5ae8cb899a5b4a2d9b3ccaf259c64e39",
            "d9e28ee8a1b741c084084779b6911feb",
            "291f099a2fcd4535839dc1c58972bc77",
            "143109ed962d490bb3b5e3860f333837",
            "a8be45c45c5b4c3b855bd4b7872b4244",
            "733334ff21c4425fb4ce340ab1482e06",
            "f0bf288bf76a4407bbd38cbfb7302f43",
            "86351337dd6547e7b5d235392df41266",
            "2e7f8d6b2305460fa785a1bbac710422",
            "ca5d59cd82d74f0da5d745cb183bb658",
            "1334699c97b24bd59752f9fa581c9582",
            "38646c6d662d42b3a499fae087ecd5d0",
            "6e0243d8ae93425897f9ca95ed6f4f38",
            "60a4107d962c484d8c8a9be775315a5e",
            "fd040040d19c4ca69aaf99299c74a4dc",
            "0e217412a1034d0fb3660cf5bd12a6a8",
            "b7618e71e4dc44ef8f84c43545f131a5",
            "cd4fc9190cc84d3f8937209f549558de",
            "a7475d6c1f684949b9e4993b5df777e3",
            "043529c1d3d14e5bb60165998ad2559e",
            "680d53d356e84c3194299cc921d0fe35",
            "8e144808ba13439ba465cced3aaa05c4",
            "f1f0f2acceda4740bf9baa38113395ce",
            "bb505e9e056246579ba9aab116f0f3c2",
            "3d01f14bb0374942ad5adffc5f154267",
            "6e59427418f24851be24e35b704df2ed",
            "05668276333c459ab9d148ca10343a6a",
            "6084ccf7d8774609aa7ddf12977d8996",
            "a05823b87e1e4c2ca45e21dfb680e2e4",
            "b5b6a0b573b144029ca85dea6c182263",
            "b6a825bd3bb04cac8aa23e2033ad9f15",
            "7241d0e92cb7492a80753e58f13addfd",
            "ab2b6f9992a74ccbb3a480c1973b0328",
            "52c273b8882c4ab9991e08192dd1aa9d",
            "1e584ce80e4649b5816f7ba7ecf678cd",
            "1f825239d12b497e8e0ab4ceea93c1b0",
            "2774e99f68f64a54857b5467659e6f23",
            "b43abf75d745482db72eb9272eefbb16",
            "17cc019ac06244c3ab6bfdbbbf97cc06",
            "b153c2fd2f3143f4bd84919160634638",
            "ebf6f297117d4ebca8196cb6ac53560c",
            "51a6a94bd7074637b656570eae4af9cb",
            "ccd95b288e3e4a8197bb88eb4677a095",
            "2a4231e52ba04f5581f34922196d7b1a",
            "b9577a881d754de3af38a539663c057e",
            "a563a3333abd431384949527347d0799",
            "4f9ababf55fc48dd97affbe8fa94694d",
            "bbba9ecb5f3e41cdb250507d1c92a38e",
            "65b16e5737f94a8891c6e660dc98898d",
            "2d5da7d87d5e48d4a0a103faa164811b",
            "88e996a4407348da9a448294c661d2fe",
            "239b8bde4e40435aaf74ba81652c2607",
            "378a603ec6e140928aa76fc5038a1e07",
            "cd4ba89832344569b311382c1752c17b",
            "0f2cc113662b4f038704169c9c888e2f",
            "cd3ccc95b5ea4aaabd1027e14a084c1d",
            "8d095140b4cb461dbe600f3ef8d4b683",
            "3157d740e5d24343bff099b37f6716d8",
            "493b5806d8584a47aa32ca335fe6eba6",
            "26298762fc9f41e8bc6ecd5ca163733e",
            "232642cccbb1480e8df126b020ea7bff",
            "316f18aa2afb423ba8393ec1a6ebfe68",
            "9ffc1e2915184d30894a4ddd65498515",
            "b5b62ecd94844cbbaf762347e6225334",
            "30fa81ceb57a41d3b20f57efc6854153",
            "25d97c87f0f349f0accca4daa7fb0f70",
            "46365f7538bc41f8a62d503f78a144cc",
            "e0cd9866384d4bd7a6d1634ebd2d3957",
            "1004d7afb1d8463ebc3a8ca11b7fdf23",
            "83df2c4be4b043b68f1c3dae77e6fbe6",
            "ff8d55c1352946f5a5710e786efc3353",
            "69489b84f3b747cbaa18671128839851",
            "71a661faaa4f46f397a7f2b81eed03e3",
            "805e2f87454d4193bbd7f54043f63022",
            "9d28a71fb16846de9cacb1951b06e0b8",
            "fd017e7c7c1f4cd49974683d1daf7bdf",
            "b1f1979fe6444030a169641e2af1adad",
            "0e7d4a04c7bb40f0ac7b92db2873a888",
            "3dc9ca18e1e647bf95cae6acbe2623a0",
            "f4ee34fac78c46f097d131b2a40d9256",
            "5e191cb1fbd746c9920e49ad15802add",
            "0bfe362ff78841718528b771e28738a2",
            "4d8ffbec564c4a648aa6ebaa9652ac51",
            "b7b6e537b62d4967b02a9ec68fdf5b19",
            "59289bfead2c4acfa25d764f87a9d38a",
            "d65d7cac8d9b4ff1b6ba2e0af271baec",
            "752fd609d6064d63bf46f8f68cbc87fb",
            "c047b4cfd4fa41a985bbf8f25ad2686a",
            "456b8c9c01aa4f25af54ab4d899cf01e",
            "2f5e2b12a38e4a3e904e502de456550a",
            "a16e668a118d46ad873545f0e12334f8",
            "5ce35d049ab848eeb5a3f507bfe78530",
            "441730d2450143c697a1b54f1f75f4f3",
            "d76d45943a9446a7bc5f4b8c1ddcdf39",
            "cb7e8659813045e8b56a75635d01ae83",
            "6e694a485b19431faac19fae763d49fa",
            "76e6ff44b5c345358b35ef9dfbc26be9",
            "4b7e3b2dd87649509bbb1947263800cc",
            "6fd5f8e9bdab4ddb8bd3d6c28400378b",
            "fcd495fdfc4444acb6ec7386fcc9a4e7",
            "24673c3a495f4e10a8faa5dfa4b60896",
            "b570b6a6cfa9435082cfb389bf9ded34",
            "7886f088ee074bd3970c11c4d92e7175",
            "86657c1f345c4e859038eb62ef185c17",
            "57f97418bbb945b383295946ba73d6f7",
            "7dd3b063ab0245c2bc730d17f0380ba0",
            "1cbeade759d14bbf81341b11a447bc2c",
            "eb85472e811b4a9ca484afdee3d99979",
            "e3eb54f455e5457c94bba182be15e358",
            "2172c770242a460d8036ac394024c153",
            "5f0cb647a18146e7a0e473031d08a581",
            "f3105be6456548f5b6150425566992d3",
            "4ce7000f012f4353adb358d434d4fcec",
            "c1b681ccac194202820e9232d7993798",
            "1ed4a5d0f964468fba8842974665c003",
            "4d01060a3ae14679abfdecc03b971db0",
            "7d2897d2c40b424b8fd785e2c190cc0a",
            "1ecd0cd014cd4b99ac700de93a55a186",
            "4788c54f947c49589f669e48551276f0",
            "b26aa0e4715d4d02b604e3732cb367b5",
            "fab0ef9369b54ea389480af76dbea922",
            "e08d1a9a0dda479d99a23562c6020a92",
            "662f6c1392f649d5804255a5510024ce",
            "6f22a34abce3484a946dce2c5538eb1d",
            "9e2f634870fc4cfcb25013610bc0af39",
            "0084011c0d8045b68853f8bd9150f28c",
            "023d85570f274bee857dc1a280b494fb",
            "1ea02cd0eb4b454983c27bccf45b4aed",
            "a8aa8afe682b43409a077084fba4a432",
            "834224b5e1fd44a5a036eb30edf02758",
            "27b700fa99614ef087a22dceb641af5f",
            "a48701360f1149b9b4ce6dcb188677d5",
            "66631712541547cb86befc9d1936ab2c",
            "3342a4541f08459fb37eebd3a6526577",
            "7ff6e477390a45c285789c953b192d5c",
            "ee78dfa502454c7b9a240d045e55906e",
            "02009ebe42c347dcb846070f81434889",
            "09e9bbd5ae5741bebd6bb5ee1bad4dc5",
            "c24a770eb82945bbb66f602742f6dd86",
            "34f39c91138a4ca19898454a8b4595e0",
            "f95bfe23c2e64be09a19f10b6c49b5b3",
            "c44c75fa28644fa3ae4568855883afed",
            "38cb16b039f14308a2acf5ffb1366e4b",
            "c95c2c2cb39748dab8eec18f70578631",
            "4b271340fffe4501bfc55828f3e31424",
            "197db63a60284c9399c9ee207ab75478",
            "850e1d5cad77479cabf9be4c9a5b9915",
            "35dbfd10b77147008efea08d3518c8b9",
            "a097b263b15b4b738c01fd2554c33f51",
            "07fa900b0057492e870e58b6c652548a",
            "c93f9b9585a7463a9f219c1cd1a5544e",
            "42c29455c50240d3b2f74716be775eb5",
            "17be2971c0894b849925c0db9a54f236",
            "b6003605d4a34d3fb8e435e8ff995f34",
            "556127a603574a95bf3f1421d334ab93",
            "6db5231959b444749df5d52df6f606e1",
            "310bfe40b82f45feafb58d7982fc5c99",
            "a7dcf611b4a44acfafe545d958d5cb4d",
            "8e9783aeeabc452ba57502dcbd1463be",
            "3f1d850a418748649939cc276117ce73",
            "d4f88a49bea348e884d86416838cd8dd",
            "38bb22f62c0a44b28c01264c3b9d4973",
            "350fe92440ca4f86846276408c027987",
            "bb98a8b521034c178d090e069f15100b",
            "1719867ded3a47bc9369e797bbd4e0e2",
            "2794d08353b74df790fe0a08bd543071",
            "39b5d04ba0204386a4969cd2cb0673dd",
            "6569af853106476f91faa3dfb88876d1",
            "0c8080e19ad8448494e91fc8ab910105",
            "4c3b42fa97ee490ba954ff3e630bd650",
            "90219fa1975b45818924986501c2f40f",
            "f84c61048e0c4f31a3a3841e4691b418",
            "7a65d84c1bb0420b8a5f72bf71925afb",
            "274bfc29b726406ba0dc1cbf4b71710f",
            "a2ceb55556b54d09bcf25a135eafdb43",
            "b6c4962815fa41b7ab3a8a9d6125f585",
            "a8362c284c534a4ead2471333114ebd2",
            "eb766de9dffd467fa88c864171be7ea3",
            "38a3a593fe65416c8eea8217bbce3f23",
            "daf4a900434344e9ba0df9e7df284340",
            "16aafa0c404c4716932913ad5699e352",
            "1dd77c0bf6c84f159918c57f0ed78c8a",
            "61768f0590804f64920c967f2c15893a",
            "ab5f0babdf5d48a38653fb895fddfa1f",
            "04887acd176c4901a8d50ea23ae28a37",
            "027636841fe940e6ab570666dc394030",
            "fd9b513dff6d4a308d8b71324a1c8cf3",
            "facc32fe70f642ffb90679db5ae7d2f9",
            "1c797b6f00304896835bf89981a27702",
            "1da05ff764fa44b99660af8334992080",
            "bb9f84d3eb184c62a7e81514024a2b6f",
            "20f34a44d21b453db04b6e499e87ad8f",
            "dff1dbe8320c40ae9f6a99737230f6a1",
            "075d300e39554911b0afb27e9d60c631",
            "f1b560f7d22344f9b2e3ed605af6db06",
            "4c4c0035a51d42978048b6441e2ed19c",
            "80f39ff146784f19b730c0ea960fe122",
            "203996eb16ef4a8dbd523c97b5393535",
            "8920877807a24634a50559882bee3389",
            "6cfac4d116484bafad59288bf40b4664",
            "ec8638d0391a4724b6b9f5792815c5c2",
            "2737a61429f24d1d806410d932276fb0",
            "3b34ecc589ce4aa6a10471744d648d0a",
            "c47ac1e6785345b193d29d9dc1599307",
            "45c3eb69c0dd40f5ae4947a6e39f5679",
            "a0d178972c7d40c08f95252479a1ed56",
            "35b90c98084e45258c710ff55ad9fa1b",
            "912343550e2d45359886a76f40a79ae9",
            "50f9928e1e684b90af27b61177f99397",
            "25b11e86664d49c69d30fd5fdef85dae",
            "06eba08bea5c4018b1b085037f4c0210",
            "90ecacf2a20a4b8a8d8b98d08471e594",
            "79680a509be44f9e9819db96f7cbd3d8",
            "c56793070736439fa252b166929d70bd",
            "1f4689287a224df0a61d26ae38d7e510",
            "26e7f06df15c416d8b924ad156c2580d",
            "b155af8d17fd42eaa31299eff47f5394",
            "97c3038da8ac4838b09b0ae1accbcb6d",
            "08254c68983b4ddba442914398b2743a",
            "fb3756f2fb42483b9609fb322787524e",
            "6c54ab58c7d4425ea1dcf9afe21279f2",
            "09dfaf72a0cd4740a8ee14f3e787f864",
            "7f28a72f5c7445e596e5a4297c115c88",
            "90bc401da56240498224ded2fb492a49",
            "57ce1cb2c9064457a8532e2829976784",
            "b7b0b815d1824fd78300e921f3738039",
            "5ac62f3b0dbc436697057dee3cfb8b99",
            "17851f3e83864548a6b10970469db492",
            "2e7e5209bc8a4da3af94484c42ad147c",
            "03b8c94ff23e483faa0da29a90cb26f7",
            "c942ef15fa154f5b8004ed950e73478e",
            "6eea4923aecd4652893689264bc74ffe",
            "ebcab8f65cde40209063467eff177643",
            "4a3583a730ca4bb99be9d034217ebff0",
            "0efa3aa0cd194d2c9a5d3972579e1091",
            "12486687299d4b59a9c262d58a73aff6",
            "454de6e0608940d59b1fbc6b13c3fe8c",
            "8d96dc5fcd714a269c8d76eb6f8f3849",
            "4752e5e5f5ca4f11bb7392077ed1faa5",
            "311a50e89bff41ac83c7a7fbd76e76e6",
            "1e79748e81cf4ee3af90265ac09523f4",
            "5fe2aec8f1b142e79991843b6abcec34",
            "43591ca7a6484bd9affa882a6ad900fc",
            "7a6074b7131745c181ee5ea0502b8827",
            "dcab591f55ea4950add88ee7b741d9a2",
            "4d5e0ab1cdae4e5ab6080a69709e3aef",
            "3b5ea53853b44f388bf88975c4d1c69d",
            "d5a32cfc2a34473e80db7a0a89e14630",
            "32b3717ccb0a428782c6783a93a40ece",
            "df76c258472d49d08e5c425f76c934a1",
            "cd1b6d9b07954e72a150e25b80924bfe",
            "9d3a2789a0744edb83a5131b43a1a44f",
            "e40c45116ae74cd5828c2715afb03a7a",
            "4c71b99cd4b742ab9c7fd4feda48af32",
            "34da41d5b31f4862953529d98056980b",
            "d737509c4b9e4ca58637e7e5e57ca5ae",
            "f194d8220a76478bac3294212addd0cf",
            "e73f2d3302de47d79ed21cf92f7d863f",
            "dccba3c5b9fd459fb12fdd6a6a6e121b",
            "a3cced1e64f246698eca858688b316f6",
            "8eb598ea204f4cea88803db89426ab14",
            "ab6474a0be6b4152b599c390681ec860",
            "d68c76a3254f4dc4bf71490c74ddf08e",
            "85fe3d592f1f4b0797c628bceb194be1",
            "69a8acf764ae4516bc313585787f82ba",
            "1145eda44281498c8e792741fd8e5106",
            "8c07b021473f44728e15e669d3ed9d46",
            "b0a8e7239faf4e8caefe1aa81ab36e18",
            "485503b5a18048809d848d5abf15ff24",
            "2fe2e2e908a34d1c954ab2eb0bba4eed",
            "1087ef3fe6eb4aa6b598034449526a40",
            "a6ad9b6aaa384562a0b9b35a94b9cab8",
            "8e57b137880d47138588fa4f387ab712",
            "fb598ba3636945ec99f494d36d0dbe81",
            "3b4eb532cf004030a70d209a46b6f1d4",
            "9cd187579d4249e5899f3935367a3fc3",
            "91247589f98f440da5070d47e5824ed8",
            "6e74a4c4c1fd4fc98674f543f6e40398",
            "207a66d423cc423b9cda24bf2e843944",
            "53e7d456d7204a658c777a58dcf0732b",
            "5155b18d37174690be8be66c4a3492f5",
            "ac879cde9a474c409d8091d44210b1de",
            "653aadb070eb4bd2ae15cf6980a485c5",
            "6b3bd39f1d19431b9a037d4174625574",
            "a59f0ffbc09b4f1ba435684669d43881",
            "6cd7cffac0284b9f98676bce32814a29",
            "b89bf73d4d3e4a61a93abb1025c7ae97",
            "8671f2e6ea9e43859218f17c8cccffef",
            "35fdb5491f724a3991db268e301cc0e3",
            "e33261290a404fbf8396acf2515c7c2c",
            "ee04506f8095412288f7b1c684499487",
            "ef98e033a2644805b35aef33f21e83ad",
            "ea7ce50ebc664e338e38c1ff519be879",
            "10493c1381a14e55941b005c0afea0ea",
            "ddc9024b2f87436b9f88e7ec369b769b",
            "1c2d38fbd34040f995676dba18c8e9c3",
            "306fe07856014287a5282f46cd45f7aa",
            "764b93ab317a495faf0d753d1820ef49",
            "f883ae858efa4a4d81839723c39ecdf5",
            "f7136c417d0e49d0b544ff0ad636bce2",
            "a9bafee495294f1c97e87fb38f58ad77",
            "a3a622e84aa3458486aa2445639f4473",
            "5e2c8d54591c44608767be8d17eb8aea",
            "6132b2f248b74e289d6808b5906e3428",
            "1cd4d66bd1dd4a96b809bdd72c6cf8c4",
            "8b61f7cee6e94e6ba9fb4e1ff060d457",
            "c512c0ceee20481f9e5e05caf70a0f8f",
            "a2f7572a4425404088c0975a4571ad26",
            "6e1e2919db2a46ed9fd35b18d3fcaf44",
            "1dabf40aaffe4ff9ad843621bd14da3e",
            "c40fc76e5002458a992ace5d08ffa2ca",
            "5a386aa5a578491592a9209221d1e236",
            "c4b0fd307eb5488e80f11bd17d7fa3ad",
            "cc4824427fe446d0b7676cf3342e3b47",
            "fa8a84ad60f445d8bca43b50336ac310",
            "7fbda29ba2ce4c7a861f573c145eb565",
            "d541ba896b954928a4b56848a905ba94",
            "4a300db4f18f45b4964dbd1ca6da36df",
            "fdb6b1289c9344b8b61f133165f3f881",
            "d02e4081eb06428a808458d8f3fd4e58",
            "c51edff0e217429c8c2d19dd86250416",
            "0b1a010a0434441fa8a568f629b717b2",
            "4b087ef1a02143d4a39cbfccc3a19202",
            "75d6b531568c4c90967a1a6a1a970deb",
            "ba87d4b45bab43b4adcc9d57c60730fc",
            "8c23dc5a8e4d4eed98df4c7906d0f1c0",
            "1e337645eaa04e128fa00d812cd0ae7b",
            "89a3dd6173424015b187d585c1fa7655",
            "8869e40f1a504b9dba225cc04b59c88d",
            "f595ec1b105c49d8b05caaecc1b56014",
            "d32af6d50033461091953de10a6c43bf",
            "27dbaa7cea304d35a45d0f3924499806",
            "cb56f41af10a4b9b8e0ee037613d6c3c",
            "bb6800bf253446a19e08ec09eb1b72a0",
            "ec62d38ff91f407faa52113cbfeae24a",
            "5fbd458062e04984b791b1d531a7550d",
            "4485f04af3664758a3d7e63fc903d685",
            "49a48f394bd84527afe382ec88a0ebb2",
            "eaaa5531d64c4f5995e36dc89538e5f8",
            "23dcbb34a4524bc9b03d835a11e1aa0d",
            "4b1dd5b3a50f4753b6842ad825f716fd",
            "cbb4a039bb5342fc8f82d9a914cfe3d1",
            "2243edfd1cd94799918f3fbc6a7184d7",
            "692883e5df904bd2977cec8ad1d2945b",
            "d32bca6a70ce4a63855b065b7d3528d0",
            "d30b253632004b05a3580767e157086e",
            "39c3fc195e22491b8f89ffff6629b0c3",
            "db0ba3af56cf4ea4ac5e8a32d7ab25e1",
            "9f1ae96c9dc14b238a2a53200299a17b",
            "7282b7cc66c4468bb732fb80b142fcb8",
            "761728156f194541a96e0e3a6ef7b0fa",
            "0344af49ce074ad39e5e3643e8a873f3",
            "3670e1ddcc5b41e897befa317116c64f",
            "12ae07237ce2430998e3d6b2a3ef3304",
            "99ce7421c36944019f27c462c0c5b0f4",
            "7d2bd0f2f80c4cd3b6105b09c6a5d5b3",
            "84cf59285a184c5b94f0bab08f1da8ac",
            "c9b3e50047c0474f8a0ab9ff4a6145b1",
            "d14c79b2c4914ebb8097410320a93115",
            "4d366b59edf440318f0995e731775ab6",
            "9905fd81c9be4fd4a86436174375caaf",
            "6d6c40d559d3434d921eedab6eb9a8d5",
            "d3228922fb4d48838ad9cd32551e7213",
            "0e6b295e6c174d36be4377d941c78d8a",
            "b6a3f365289747258245e4f5ef15cf2d",
            "b3a1ce605ed44346b8a15d9ca8dd7c4b",
            "e6813ad887844bbca8f51fb3c6eaff77",
            "ead80dce005648fea8895a491cc6eb0e",
            "992965a462ad4e5eb7fa6a7799668f40",
            "cb0d6cd4060c4060a50678f8d3d37b57",
            "1a154f3dcbce480baac7f3e6bd75d3ce",
            "83384d6a454347cfa54657dfa861c7e6",
            "c2bb8988544a41b3984abef3306c85dd",
            "f11856ea43c34694a7eb9feb17e3776d",
            "30fd625050514c9a936f5863d5d70b58",
            "2bf2242ed1c840e9bca475aee3fd26f4",
            "73f7af9c4f9c46fa974c664fffe4cbc7",
            "1b485fa77c874916b6b813df77e87f4b",
            "da198667e4d54b38941aedff49a8c47a",
            "490897a7c4f7401cb980535f3cd30de4",
            "7f3b53a364cc4876a8c0d22d94fa324c",
            "dc95de6f663942c6a27e5a815c7ae7f1",
            "71ca67ffd6584a22b1ec5f4c3b99084b",
            "1ad72a31dbe24efaa3bdd0549db4cad1",
            "da1173f434414ae58c4e7b4b7f0f1ce6",
            "8062548a9d7a4e33b201e429c28557b3",
            "42348bebb1e94b0c95c21ceaf242d99a",
            "ef53b71fcdfc4c6e92b34e26fad29ce3",
            "54019bbafdad4a95b48cd060da45db03",
            "9b955579fb514130a4894d777a8cf8c3",
            "a3314bfe832748b6b0be7e7f61c9e681",
            "abbc5c4473d340ee9145019b75a61622",
            "c1b88b8fc77144cebc077039e25e2cfe",
            "144bb80e2a0341e1bea18c0ecac130f2",
            "a3eb594d772441fc93945c9146d7c414",
            "c90e884273154903b51329680ec6559c",
            "efdb7423bc1e48659a2ab791fbd56d04",
            "3270dbdec1ee4e36b6f28da30623a910",
            "6c1430077601406db6a3a13002a3170e",
            "eee72029a38a4070bacdba7a781b9914",
            "cd57fe61f3bb4aa3ada5d883e481cc5e",
            "a588bfe916ef458ea77f2665758d246f",
            "f27150dd9bff47c18c6104e898c9a9bc",
            "a668e4020cef4247bb6129325fb75eed",
            "4a1bf04e0cc6466e9974b3f01fb7166e",
            "44b152f95bde481e9fecd4c7f33f21ef",
            "c556fbf625704887b44b27deadbd41bf",
            "6e5fa80f326e4a8f80bda15f21c47947",
            "4e149a90591f494986895ea2483fd5f2",
            "4263883b43e94f94a5f4c4062257d073",
            "9a1944a817c543809b93e4473b1053d0",
            "6ec9ebdac83f48a3b1a8a7049104e0b8",
            "e56250cccbd543dba57a4db791d44f9b",
            "b75825acb76d47dab79530f2bdfe44ca",
            "d9d87d13ec0c4affa30cdac2d174d7e9",
            "d993ed799b574ba5ac4efa3b8e7e561d",
            "ec21ec7e7ce34a8181522a851e8099dd",
            "090ba0e0ded84f58b3e64f0a7ea5df4c",
            "144b1466e6f84619ad76fdedc2439147",
            "1dec8ae951ef4feb9d6d0d6227d50a7e",
            "8cd86ab73f14449e81ab79f1f75c5e4d",
            "11df993e3f3644949c1c6d23c3dc63d2",
            "67e9dd6265c6493290b70af0a7bc6f02",
            "ac6649bc15be4cb8a27751d1028822ad",
            "f4c9188a165e464888b6d0252fe1f15c",
            "63026da9c2e6452c8e665f793b74924b",
            "f498dc2ec9414e2cb87af54be0940d3b",
            "e9bd17ce131144a3a77399da703e206a",
            "09553611f2024c6f83ab54bb7a640409",
            "a5aaef7141db4e56a2a3bc52ac86c324",
            "3462f31f4d95475a8d611d0dc446bc3f",
            "2a2029300fd2420eac37686ab42794cb",
            "e07dda591a9847a6a5af4074a51100e4",
            "d3cbd3a9f5fa465cb21cbd972880d1a3",
            "c1cce87b44c64748b2a3952a7cd5329e",
            "2f05650e96244077aa8701d0ae5ceaf5",
            "2e00d7e48ad4459ebf92b65346a21fa3",
            "8055ce48418b471fb8b6d0a9e96b34b3",
            "3bfbc2d1e38648d3b810060382798aeb",
            "f693bfdc078e49a5ae66359138e49ca7",
            "7cd6fd8ba232494794b79f6e6bda3a4c",
            "8f085a564f194ebb888156d25dc1bd39",
            "63e5f95190c9430c8d25abc906b71548",
            "3a29dd87098e429c949b17a676da6ac8",
            "6e662b7065e64d759d1170d24f2cffc8",
            "f8b5ebfd59004e77ba336325501e5955",
            "f1bc6ff4320645f0a7d257e6864ac4ba",
            "e63ca33fcad24a128464a0ad8e0a82e8",
            "f4cc8b33c9b74a769acf20a6315b6f8a",
            "1020e6d3c7dd47e19bfc7c467b0597de",
            "7ce4053c100349f6b28c29537b770dd9",
            "4dfa5c9b877b43259ba88ee99e8db818",
            "e5a1325d324745549c856bb97e52fe97",
            "d0cbb4f699a743019cf885c8cf72724f",
            "e8e09a355ab14e6b834b71eedb5e0d69",
            "eb2c2f0294cd4589b7d01a8aada4c93e",
            "8d9060af2f3a4735ba8570e3cba46791",
            "3f9d6353eb42443fbe3b259ae5d4f045",
            "04bb94899d84498bbaefcec396c2c6ab",
            "02008180e29e432f825bfdabd61ddc6f",
            "dd3ab3c66d2c4788a471d83437eaaf87",
            "b0a43de327274a77bfb47bb789ecf860",
            "c1ca70b2abaa4e3483a42d90ea7c0cc7",
            "c5940ea2185448d2b0136eb192e65aca",
            "0e65d6b18d73422cb3ab6b9b9a4d2e2c",
            "da203a96bd42492892b50a5f7f11de0d",
            "3c08409ea8684e818bd98777badbe0f3",
            "7a964b6ccfc9475d84d954cf20df5c10",
            "8b5f40c88d6d40fbae6a5c34f7504505",
            "43684b7459004f4da5d62ae2e3ddfc6e",
            "06fd7bdc08fe40b886502d53c3945270",
            "a2eea4ade9a145beb4ccb61d9f0e6de3",
            "f941dc464f514288823a9b094e81b2ac",
            "cde06603f9a3435381bf6e6e7d432e4d",
            "fb7d01cea7e2452b930396ace72771da",
            "49799a5066f64ec79888b72cba23f1e6",
            "bfa2fcc1c1224ce3b92554f7634951d6",
            "f7872095439b46909b567a35e3be7071",
            "4a19c1ccc13d4ccb8e19616a57a661f1",
            "01006a7661ce4d8e810926f241f698cd",
            "a9e629b1ee994704901e6a301bab14d1",
            "73227c1afbbc4b3880fb2dd4fa340aa5",
            "300385aa80094fd9801e4db83ef9ed33",
            "dc24184e62b64413be1c60bcba05e9d5",
            "1e1a080aefd9447cb2cca1b1a0eabd0c",
            "be7a12e0bf47439d83e9c37419141d7b",
            "4232a48f44244eaea9806a7b49b5b3fb",
            "e1428e57693043228005fccdaaf92870",
            "1b506ae7cfdc4645bb760cc030c75c92",
            "a2d21c32703145fe841a1a381304b2bf",
            "d7b18c7e196545ceacd05d9010b61706",
            "ccca3b6849b44fc4aa1f3233fc3d55b9",
            "6c1a04cebf4744c8863ebc3990cf5e8e",
            "b34ffa18518143d894fd92bb723df748",
            "05c10512d17c4f88a0bb4d8ff5fd74b9",
            "949236dcadfc4446975e7ed30f1b7b60",
            "0518e00b68f94dddab426db5de94308a",
            "1e1150cbfab04b648a67e36cd48c9cc8",
            "acdd80add08e49ddbd87c62607d05ba6",
            "d8ac94c1dc8a48ccb597b3f83dae683d",
            "4509fb30e3d24d5ca583e6ad03a4a2cb",
            "f83574c56ac748148dd6d9ea63aab3e3",
            "cf9fc38e7dcc4d46af70b31bc903045a",
            "6ee2f403fc664eb392f1d817a0e264bc",
            "41f0b9626ce8459aaa6c6d015569e615",
            "236986fcc8f243ff86d3b40d8d4942e8",
            "efaac91a8dce4f3e9e874ae8a3749114",
            "25ac2b65578f4bf283d0fb07208d7e2e",
            "ba6f271a37bb4bb9b4eb2e52e93c3fa4",
            "84b1320e1a6a4a5180ab26076c6c8055",
            "516f713c8d834041abf1e08323975446",
            "0befea2ed2ff487eafb7c8a6633459cd",
            "ee17f9b775ff48bd9ec9821291ff375a",
            "feeca3b5d69c419eb99ff23091fe8dff",
            "0112c0b8c7ca42ef9b6d8ed53517cc6e",
            "386b45241e5a4195b37a1037099168cb",
            "38358554be474668bc4683574a2a2454",
            "d9a3d350f3284063a30d003857c5f70e",
            "5709689600b24b1fa0bd43046fd09346",
            "6a51f869d8904b6b81205d6601595c60",
            "0d67d9c937e84aa692cad92e836fa53f",
            "8ba95daadc764bc49d0330729fbc98cd",
            "ac049fcfa02341bca6e61382cecf373d",
            "606188b2447f4883bd614e89bea6389f",
            "aa3b89bbb53f4ff0a42f391880986abd",
            "d937dd10559645969578f174706935f1",
            "5ed5250445264f4eb9621a5786d116fd",
            "6d627210bb7549d39c3b8b6c496d07cc",
            "c59e873827b148ac87f4d2c137d5d604",
            "2b621ae58adb47bf8917512df44188b5",
            "a95a14f0733141f48bad2c90d92335ca",
            "4ae3c5fe099c40abaf94cef9515f4353",
            "62e6d7e4479342a0bbb6c0142775f49d",
            "0803fbb7359f4e97ba13267075a414ce",
            "46d4983c63074e9d99f99d3d46e5fb53",
            "c67f34b3fa0848cd8e3b717b065491cf",
            "d05395cd91eb43f484cbaa81a78fbad3",
            "27494988ce4e4b79a7d359edae5fbaa0",
            "b73c4e42036a44dc91efefa340b9d16a",
            "f5d4bebe7cc347a6b73861806322abd7",
            "51e42043311248888ac7c27c1556ec3d",
            "54e1fd4496cf446c83e376e677eefb4b",
            "202bef5fd20441f5b71c836e9f0b5908",
            "ec15ff96c1ef446d8d87c80fe7cc2ced",
            "a22323a4688c482a9e5893dbe373cc0e",
            "9b32f69b37df4b71aee0610f672987a7",
            "0edd65191f48479fa9c165be821b9ef6",
            "e51358ae47034fec9c91ce724ea5c65a",
            "5cfe11037b024ab08d4d93a1510ac915",
            "f5573ac5086c417cbf04ac8e576f7643",
            "cb13fb33d7e2473f9a0a762786ac28f6",
            "6bf5aa7860554dd8a7b71a2beddcdf40",
            "a5dc8bd9989d48eb94e1b485f388e133",
            "4f95eaa010424d7cb431828f211d31ab",
            "81f094f47c0443c788322ceb6351b21c",
            "53de68e045b143adbda37d04c0265c86",
            "174eb6730c064659b618f9479dd3f6d2",
            "9e60b00e7ce44d139f6af7d77a50c00b",
            "6957890a1eb746abbd2499356bc657a1",
            "49d8a1323cd54eecae9cb5d0eb983e5e",
            "89c152aa56a3422b994d0dc6d46da56c",
            "24fa51d6b4a74516aaeb72e3b0ec9743",
            "6bf1e99a84684008ba44d640e22e1c91",
            "bf2efed55a9b44559d6a4051af918c15",
            "9e6dda44959c4ce1b8c61255e8a676d5",
            "93e605c436c14a988db078514fc57130",
            "94a74d9e067f443a86e353493a8c07d3",
            "814377bf06564867ae3d698a66bc039c",
            "52b44b8512f2446bad2dfc4771b612f6",
            "266831c0ac1a4f0892b7a617f449ed21",
            "16fce64ef3b249a89024bca9c188217d",
            "098e49f9e3bc4644906849684cbbabfd",
            "7aa67f9e2b694f418021095321960e8a",
            "6b220128120040d090f82ff169ebd974",
            "29d7a7a308804e55a3b20c475ff4fa3e",
            "0145869fc33c420ea7ac882b60c49b08",
            "684fec47d8cd4c05af472d196c220788",
            "40dc9124ae464b13b4ed7ec971522a8f",
            "1b9c05b10ad14af58070ccd650ae4ad8",
            "7b819718d65047f19f62fdabd839b04a",
            "f37ad0742aa24a09a9b7775558979478",
            "b3068008510446a9b74d87985bd450d4",
            "b400903d33f74d3a99fef4833e58f529",
            "7af6e70e24c3436480c7035f3787846d",
            "bcaffb6d99c84d7bb36a9792c912f754",
            "95d29ca889fb43dda7097918fd2b8740",
            "f31b91f196fa42ef9b7920b2d4ee7ded",
            "609bec37505c471b935955d993f7999c",
            "da55c2dec4cc4d648cb53cb05f52c0f4",
            "48e9b731481e4184aaa8e3feb8997087",
            "060f8b38027147e980e84a8065b6f104",
            "fc135a04b32e4811a7e037af5d4e3f36",
            "a12cd0cb1a264660b2806f59bb086a00",
            "1c97de3a56cd4b46b124c0abac59f80f",
            "6448887d1e3b47d48c680621fa9dac57",
            "575b8115f7db4db1acfb2e69fdf39e80",
            "c343d26d85d44a5d8277ee1c8a1b3a1f",
            "158466746a274c8299c358b8fed8137c",
            "d9bca7bb2e9a4fb4bbd07c4acafa33c9",
            "671291ed68f34d38b766eca8fe431ff0",
            "87bb8db94b4f49d1927a26530265d232",
            "a2b032fd378b456bbd761f1dcc28e62f",
            "b7a268cef9384144af01cf2bdcbcd6e4",
            "8d24f9bdf29547fe9e1aad10364f6d0b",
            "40782ec448bd401b8d3959367a3489aa",
            "2de5de6301fc454b8e2cf52e8de075b2",
            "9ab1a9559c51473f823e412c3818f204",
            "46af9573ff8e4f389a11b26d9f7fd388",
            "c82515a0eef74c83bf82447bc9c536fb",
            "7b11705717e7427da889e4bc0f2b5ec4",
            "e925d16a76cb4888b6b8cff969edf0c3",
            "de8cc12b9d05460a934f90bafba6df1e",
            "c2eaab2e615c42d49507284e19f9da40",
            "e988d0d43cae469680e76b37b0b8c26e",
            "22669b9171dc4c13b6b7161eebb2793f",
            "6047b4f561214fed94b8312fdf530daa",
            "b806fed5feab4fd4acae2e59129a96a5",
            "0553cc6acf94466891ecd7acf9da898c",
            "3cffe6e5323044178b01635d1d80b535",
            "f23ec561fb70419ea63f3ba1b0565def",
            "fe6c886bd0ce49eba3c3e80dc2a790a2",
            "cb8fd1346eba48179ad0ace27c094afa",
            "a71cca07157a4282b0db6973a297558c",
            "0d388c02f71f461cb93878a13590364e",
            "fe181027cf954620b8ea79123ad62723",
            "a704d3180f434a76848db1ca95400ef3",
            "109cb4991a0a4087934de1a18aff4777",
            "cefbbfcb352741b594aaedf0cd96b4aa",
            "ff9a5194f0a7496bb4fd3cef458e04c8",
            "625a95d74b9d458ab47dcfc65f4f58e6",
            "c1581015ce8747ca9cc10c03e7b1d08f",
            "83d8159298224b419e8f57c9ecdcc6e5",
            "0bd54ac596844566bd7f28235f1ac5c2",
            "597820d5262c4f9191f322e4c9cff698",
            "3ccc922c16024601a34d25be3ff1c1de",
            "aaad4e9048dd4cdd8bab1b5778daf3c2",
            "7d8b4bd96060418db6bd8acc9fef17cc",
            "67b46d0d8e4642658bd1b1f132b38ce5",
            "6736912c030243d89e261b7887fc7b08",
            "d868a46b00564171ba0f40f505efb95d",
            "8c10522d4f5d4e16b9bade8e0d30d12b",
            "d53d1425ae7242beaac6be537f735777",
            "b80d4fe6adb84a229476f9053c55e801",
            "0899f38dd14b437e8558984b91db7310",
            "5971ad28c8004fdc882134ef5b06c845",
            "5bb6df6bfd124accbbc2178724ea6a37",
            "ae5f7e77b16549dbac1272d2962b7f43",
            "ebe48bdc417c4b788354e914988452ea",
            "c809b3b4f46a430dbc08851b986bc1b1",
            "efa3c90334844f95bb261da21c1c243c",
            "b2a31adfa2584431980cbbf1350ed4a4",
            "13c704873f2f46049a902e7293ae11b7",
            "767f5a6afeb44a1cbc248ccbec323b6d",
            "0f32e1e3169b454c90c3619f2746b75c",
            "75892f9b5600434da213b440c76e1c2f",
            "e209696a19e249a2811953b70e6d97fe",
            "97a910e1c05749a6b2360793f4801696",
            "a7b676d08e784f478d178102d182c29a",
            "95eb89b4b5004060af5c43d472e0cd98",
            "b78299ff95e24705ba0e0bc7549aeed1",
            "5341c3f62c644525812dc5f3533fa645",
            "ad0accc64a98401fbd7caa6d39703a2c",
            "8a192efe26214fdf87250be188b12a85",
            "7cfb9c702d724f71b2051efe968921ad",
            "a158da5ee71747ad83f1321217a73e0b",
            "a719dc7ce8804ec7b3b87e20a5235a75",
            "23bb12a3e7154d29b6e49b33d091b064",
            "98c38c528a2d4e6c8cb2d5c840db93f7",
            "8c449bdda40f49bfad7d30bdd3a2ff6f",
            "a8b2be6732bc4b439455eb30cb7dccc9",
            "2be45f4d87a248eab9009f6e01521396",
            "5bc2887b123f42c4b208cb27fe900c6c",
            "64e49bdfa12d4e549e2ef0f51999ff53",
            "6256ed9a150643a9a70aeb2f4638b28f",
            "c174062d4ab447efb846bf2fee7cb4d6",
            "649dedb5d053455887ca56feb8a7d631",
            "60d3ce7e0d454bdea709f77707806da3",
            "d8a714f2873c43fcaba5afe9187a3c2b",
            "3e49b926ad6948558adf7b643b16e78f",
            "8682af79d7594729a543eb8e45620a57",
            "9b21e9f514d1485fabe001b825604ec5",
            "19d1ce55ec3b40d286bd223731d552e6",
            "193fc3ebc395417f9beccd382d52c865",
            "9bb5a1e356774b179a9428d5cd1389be",
            "c084598cb1b64ee59d5b2b942c0446a9",
            "a2231018f08f412e8739326c6788e6ba",
            "625773630ccb4410a1cd82949361194a",
            "e098a0da12284874ad4da19f72f833c5",
            "a7348a37cec7453d8f3da404529c4e5e",
            "5a470a87d6494d86b4db44d669723a33",
            "8403ff53bdc847fd9879736de9d1402d",
            "c60efdaca6ad4126ac2802bcffb34925",
            "2b49c78d5c9342d183704a7b3f871844",
            "266d13af23884023bd1e5fc18b265e36",
            "cab236cb4d794498bd496169689fc551",
            "bd30df46d87c489c8fa5390251bfe230",
            "42cf768434964ebba80a0383949343c8",
            "add0fbf45ae4428e85064cc3455e9c54",
            "7fe2d70dd33e43e39b6420441b98c6c7",
            "0ced3b254165425ea5484c96c71127d0",
            "310703f93d074169a14e55f179531df0",
            "7706c81d73974ec989b6dbbc232d9104",
            "71d1bd4ee9414a98a67fda8e9b8762aa",
            "e320986d854741f6b034aae263fec8ea",
            "28e4ad2573804a6db8a65746526f7637",
            "63c8c260d4ec44c6b3ed70e469e28228",
            "e8a1b49374ae4977bf779cb7045e0862",
            "ef646cf93c804930a185867a6cd43098",
            "ac6e8c171a134b799a01f81923ab842d",
            "20056098201e4779826c85fd3e7e040b",
            "9b3511097be9466fb493113e529abde6",
            "d8512b7d3e8144a79efeffedb1e756ee",
            "cde7d263c8fe495e9e952b44a0c43176",
            "d28b322ba8ac4eabb5bf3e07c700a97b",
            "58b3602d1d0b49d8962f72277df5cf6b",
            "976695cffbb64ae1ad6f45eb6aae5e23",
            "6e0427d6d2144eb4a68a8a6b2ecd1a9d",
            "863c5b299be84358b8b61b1958680ece",
            "076f1e3211784102ba7f1d25ecfb2d04",
            "980d24b1f0864d5eb7d3332f8e1e5f0b",
            "32896e401e8041e1bf61c0b6f6c6dbf1",
            "5f77759d939344b99b0f72437e5d97ab",
            "ab0dad6d655940dcaa7a539e2991432c",
            "fb5548f422d7460c8776341457252fdf",
            "0f2ff6f4e999424495c497f506b30734",
            "28e6964862cd4dbb88157880c1ba8704",
            "e9ed47483d524985a7d7e4cac43cd1ae",
            "b626f3fcfee242df8874d97801e4a522",
            "7f20e95579c147daad92324438065dce",
            "f2b0c5b305bc4fd5b981bcd557cb18d7",
            "7bc0b341c6c24d29b5b1f305513437f7",
            "a9f2cf331ee04153986d293146589718",
            "b69e8cd16f8b48ff9377d8b6c072064d",
            "ecdbf29581aa4a4a8e880216361edaed",
            "ab78c797fcb14e9a9706494c344ddb7e",
            "9c70d6c341d9486b89f6f2f737141a10",
            "15afd8fecf1a4073bb8d8904ebbcaec3",
            "a5cf36963f154aa1b050b138cb4d3fb3",
            "d47f769e9a0a46c790a5e681b7edd795",
            "441e474cbb1c419a945e6f56bf648c79",
            "19911bd1adba44598ebe5200853e38b6",
            "5bb5ec44359c42bdb67e926fa9db0ea5",
            "213aa283e503475f82ef36682413b44a",
            "167de647966b4f0eaa6a74d15dc99d40",
            "d148b061db9e4843aa84cdba505eae11",
            "e8c692b5b12d45fba995f6e360ad5e84",
            "aa306792440c401282c7165f6994fe72",
            "897f90d5ee09426baaa3233fc467f073",
            "48f397943c60496092419a38093590cb",
            "0187e12f23e14670b55b6597f200e5aa",
            "0b4f7ec3131846d6b1fe9115688a9e3f",
            "c4b1addb3345404aa70ade81d1b1c801",
            "7474a44cda474eda93c9f4c54d4fe503",
            "16d269cee8ca4a00acc3988c660897b1",
            "4dacc962e9fe4bae90f5e872b2c406de",
            "24b16a772fdd40d0bfc9f80a74bcb528",
            "9811cfd1c39a4d8a9c773b471860877d",
            "1233bec120df4298b407297e44855bdf",
            "467e69e9b45540ac9d93716ee795e3f1",
            "3d2782cc3c1c4dfc8e7f1a8c43e986ec",
            "3fba7a57a9c741d7b9db67c18bee4e8a",
            "b9d6630b04564a3a854ada62f95ca38f",
            "e1994abe99154c439caa585eb3eb025a",
            "825a115745454920a438fad9b27f53cd",
            "15dac326eff44463af5337025cd16081",
            "73cef453863a4f3280a488ff30270247",
            "2fbb07a15a95468189475c9628333305",
            "9be8c55e6f6e4103b6ceb7f469f36bd0",
            "f33fb861018d43e38a1d82fa06c2e177",
            "05fc6a4a1f514d28936a0468569d686e",
            "86682b8b65d042638e4ec488973d1473",
            "5333be39fb64471ab981fc9bf5a4663e",
            "9250367d060342ce9517a2280e3b311b",
            "7ca2284d7ea949e1a75968f1409ae024",
            "31030aecddc848b3810b432b2b95996d",
            "e6ce494654f24c309b7124285cab6258",
            "5c10f2c8e62348a7a61236ff5a27b186",
            "52356b6b177040ec8f2cb9a63aa5a493",
            "2dbbeaf55e3c4581b5ef30d40275556b",
            "f06cd4aabe714865a9ae07453ab11cf9",
            "97f8c4fd3bfc4567979b82152b376892",
            "59bce85b584a45888541fb59c15d4ab8",
            "8e6116e3377f41e68d31ee1894a93aea",
            "35ea638ad62041a69cbf90d40260fa0e",
            "3ad4dff21fe448e0b7eda5d877f36ea4",
            "e6456e6a2ea644ef8765b0c9fa3df3db",
            "891458de194742afa873236de2d554bc",
            "0ad59397db9a428292667df56e476978",
            "0c19c1544d1840f3be84f2dee43367d5",
            "c1f71f3987f14ebbb09a548696e8f093",
            "f9c58778afb44dfd9a01a9774503ce3b",
            "ff2d7a9b05d54b02ba0f5782092ec45c",
            "6f0289461b7948eba66f516f4f08e44c",
            "b4417f33ecd54b10809abc4ada039e09",
            "6e74b5f1520c4440928944c1e3c17d8a",
            "a8f156b445b5487cbc4c778c5e4ba3cb",
            "89ae14f842604e79b9f23d717ac9a691",
            "b0f9b7ec8bd34483b134928b9a74825e",
            "e04c326320e74ed6904b2d5654d017e4",
            "e05faef8c8144e1d8b394b102760d931",
            "063322eee7a54e41bd94c5ba1f4bbbde",
            "c0a097f523ac46a586822c2b7bc537b8",
            "7e99dc2826ad4edda57e5db48b621394",
            "fd557846f238401098460e94579da679",
            "8b890164b01e4391986e184974a4e67c",
            "f06960c7dc9647be844b7cfe899e7dfe",
            "274e7591d2d24c2b948a162c9b757c02",
            "5d04563c05eb48248a05e86c72bca0f0",
            "095a643473234144b3f6aee999f048f7",
            "8ce6d80a580b4eebb1626d4e6b7e82e4",
            "9749d874e2de4cd2b3a2fc2e71f1ebec",
            "9b808e4c31d44ef9b0bc3eea0e254317",
            "e638014968e740d180d5f67d3e6ff552",
            "ed32e315970f4ffb922d056b90396b3a",
            "c7244916f81d4269a4418e4d63ffdce0",
            "9346527d9711420f9c3b1e6a78a9a18c",
            "12812cc3f45f443eb58c23b59b795434",
            "f604229480244d44a85191bc67d9f68e",
            "4198f211018941d1926c4d8cd1e6549c",
            "1ba51af293094b10840efe79756267be",
            "ece31e6f92574c0aa44690a2372409c5",
            "f09d95c7cbb74ca5af0cc3d45ba926f5",
            "6e359a16606d4d5888199845405b93cf",
            "cbee066e28424bc888d1dcf3128a9088",
            "b0b5fee88bca4e63beee4993aad7a362",
            "2c9d07473cee4155954ea99409bac1e8",
            "bf89848851fb4f48a0240343ef9fb70f",
            "622a6ccad4c94f9caf55337ef46a3125",
            "1b7fc304037743ad87aeaf63e4e715f8",
            "4449cd12ee284c55bbe006b4d9833804",
            "40ed76cc005a4f0797c2cab0e9d067fe",
            "f1142dfa54284553a05a150916aef918",
            "48b92359e2294f7793568fe38981ca01",
            "229d2d63b41b4d09a64d84fadc4f530c",
            "b688a5e5bb424e219a300d95e0ded54e",
            "b438d6f707e94131a0e8eb3c9f5dbf77",
            "b8c944670dda4158b3a41125f3bc250a",
            "00f793a687cc4dab9d158d3e0f31b56d",
            "c6eb5190f0764d258f879cf1f1184962",
            "3ef617bcf2d54922869cf0eb09d78aa0",
            "5018c6fe758d4befa1d5720039f68fd3",
            "052e6887b8d7473794414fc9d2200de8",
            "af191337742a4defad6cbc55164a11cc",
            "b0f5dd752e554d458b264e8563ebe0d1",
            "da770b92b95c44d88bd5c9ddf3dc594a",
            "ae564c0f31cf4a01ae0251b189fe8fde",
            "ebf129def3b94b98bce7cdd16d70c96c",
            "fe581dae84f5430b9a5949d3630fa52e",
            "7877adba0f2d4df493b928cc0f03f690",
            "d7b33aaeee3943d6ab53d382bbb881b7",
            "412ba34893394ef58ab0c19132daa15c",
            "d7f41e43fd7b4f2a9d9fe1a3b2f8e9f1",
            "fe8d7c51dabe4effa38bfb962d819959",
            "976c3f09781f44c2a6b6758dd10f355d",
            "febbb98a62294788b7076e11043f5be6",
            "8202fbd5824c464883cc3804dd845967",
            "ded1279a940145b2bdd80486bf3bf24a",
            "cbc57107929c47018bf4ab207b949a74",
            "4ee344b6bb83408db42aebb8d16ccb17",
            "9fb3edd3f2dd4690a079359d55b88728",
            "bf37803d78054eebb0a9e9ee20e2e4dd",
            "a52141ecda0d4e9b839612bfe6b01f57",
            "2e21bb24d153495392dc3981b10860c8",
            "5accb827cb6942d0aee2b9e5f0908ca4",
            "add5fcf852aa4fdfadaf2b0462ea25d1",
            "6a844d7431014a7e879eb2c85628b78e",
            "0afe9d94d1d645d389cfa7d6bd7bd6e8",
            "133e052a73d342a99b56ecbb6794dd84",
            "906b8e0908fd432787e9db792fa14668",
            "e19dfee5ccd34017a41919216e201be8",
            "1ad829b280434f5cb74edf3502403485",
            "cefe1198fa0e4cf3a834fc5ef6b78765",
            "fe2c3edca65640a69e7d48e5cc780ef3",
            "8c8fbb9ff60c4de19548b441a87b0b82",
            "93d9c592a8ed4de8b4d76e135da82ab5",
            "25898defa2bf4ba28338621c6101045e",
            "ac13b1cff1b344f685c0336880d44b70",
            "0c2f0282d1e146d8a5b4efabd835fdf6",
            "614b351433074981bfa855bed9f12c15",
            "0ce19e2395fc4b18af215ba881efe984",
            "2da0ec9122554dbc9c79787d7533e6d3",
            "1badfcad9ec04726916a21787a9df632",
            "3f63de94c7b643c2ba36919bc76c9c53",
            "c61f5f20a2ec45609b3fcf3ee95fc5ac",
            "001feeaed727441aa8fb2d4a03089d1f",
            "5175274a83f94926bbf882a3de30abda",
            "825eb1e701ab49c39e9da747a75e080a",
            "4108a377e9554142a9b0a48979937076",
            "fc4da5df46f44fa2959619ce80b9b47a",
            "4203a6e2698e4d6db4d2f94d98252d38",
            "5c8bf1e162ff4b04b9e7b728cbf287b6",
            "68b1e5c58dd947ff9860590dd4f20ae3",
            "52d1fc04700840b09339802b512519ea",
            "fac740390ee44576b266f7395dd035d9",
            "80a70756a21b453ca80658af04cf2ebb",
            "4ef717b1069e4e79ad75022c651ea648",
            "fc88eca9a03449bca9213aa849e3584d",
            "52a738553263462bbf6086bb544794dd",
            "2adf381f20924fa998220a9296534ab3",
            "4389736683d44169909bcbcb464d351b",
            "5f2c6b689dbc46eb8ffc28ef6a0bda05",
            "85965636c478441fabfded62599b9bd7",
            "885e35e636d74622b552936f398f5259",
            "e0e52f58d54e42bdb5a9b11cbd360d25",
            "6656124e7cdb482fa5475a63a1a8c717",
            "0e37693af1c247d585dc24a67817f52e",
            "811d76686fe44d2da703f95db28366a7",
            "ca75d08318954f20ab44df2823533cdf",
            "3586952b4085436a84116c25c69bcf63",
            "c6ee376617de4701aaf25fe616a273d9",
            "b20bed9046bc490db931d75c9c4895bf",
            "2efedb2d90234c209feb0e13b3f7b37f",
            "fdf78b9542054f2faa29e92d18aac4be",
            "d1c66f0653a74e71a7e72cf11a40641e",
            "50631e6538fa46d0847949b02e2cec04",
            "ca0d7b0309c64eb3b0fcd7390e932aca",
            "2ccb2227d8b44bc381fa08f9d1c33306",
            "cb5ccb7173c1412b94d965d102213f86",
            "aa19f1f4f0404a518d98bfcc28bd4fd5",
            "7e7279d3d74d4cb6815477673e0dfcc1",
            "6df6b3c5d35d4bb58e1d5801c2dec0e9",
            "07d414e9ce504288adc8c3bdb86da92b",
            "4317ac551871417096f22dabde74a52c",
            "9edc51ec2c2f42299662ccf7bb68dd78",
            "7c34150f40794c298ff7d7b8caf23c6d",
            "ee38f63ccd1447b3b673aba419fc93c4",
            "6b7bb043fa264391a993a4d91300a024",
            "da25dcea15a649478bb97dfcc2a33ec3",
            "483e6241815e454fb05fa13dfc483342",
            "e3e63ff41c054bc093e55ece31170367",
            "ed770def711f4e319532fa0cf39687dc",
            "cb3322d539a74214bdbec258075e1f20",
            "0d74dc2a646e4af6a0bbed3d2985181b",
            "529a26f2c1354499b65de1aecf21932b",
            "f2bed0373afd46be8f952e8a370b7a5c",
            "c53bcea654d34e389c4f96e0ad868d89",
            "6b27b68dba9d44e4a69229da85cddd4e",
            "47667843628b4468bfc225c720ae1b86",
            "fcc78a2ac0b74a98903f9ae35fc527f9",
            "2b59692427be45519efb03f1f38f504a",
            "960b41037c93481b95e7f09fb0f26f19",
            "847720ea3f1f4a8499b24bbaeb12c645",
            "9b45368a90c04cfd9a59590a584c19b7",
            "399f6211a4ee4c05908ca2695a1fbdb9",
            "d6aad998f5814784a07318d698c8e633",
            "c53f48ff3ebe40c7be862524785bc7fd",
            "bcb103d0ad774e0683621998fec072d2",
            "3eff19ad164247d5b3a3412f10e71a95",
            "7bf4b37e0fe74df18cf76bcfae96e1c3",
            "cd6d2b4ef4844ed3ac197e7cd2039626",
            "776e3875a81e4107b0ddd163f46b46c6",
            "c30b55df18c84f3098565897569eee40",
            "280dda74dd074d7894da809e3d33f7a2",
            "e7ae8bc3b7d84234abdac2706c71fe70",
            "8ac2abed8f284000a33c784851e9ec09",
            "95d31ec723524bd9b9164ae03d5a12d8",
            "1e03a4774c034321b91e4b922017266c",
            "30b22f19cd52430bb3dab6f07e9ab718",
            "a8abe74fb0734b51ace6d76594659120",
            "075728e6a6404c56ad682e1a3f682667",
            "6405dc4de53f485daaef4196c8975073",
            "ec91eda6774640a9bbb4a28b1c3d6096",
            "1ce46ac319ef462ea0e728ed4a3e858f",
            "895ca9648f794b518743f479c9c0d02a",
            "7922d2953809443dafeccb49c2be4729",
            "7a17f941f47342aba7fad22d5404d6a9",
            "0894971d9f444747a9f4bcaeb691e596",
            "b6418fe8e60147c8a784ef9dc25e187c",
            "5ff07de79fd0436e85c53334dbf308d0",
            "c9c668bae2f346c5b95d171d9e95e2ca",
            "c9b58197d86b4e5fb1aa96537dbf07c2",
            "4b3252afc34442f08a1ada9b0900194c",
            "1de393256586447ab30df16cf9bdb04f",
            "e4a3c91aaae44b0a9d3d85dddcb3be9f",
            "b9f904d9b1a04e349de20afea63138f1",
            "771b29b758374a4099c1ef2f3eea8f0b",
            "db397758b56648a286e9dfbc36c38c21",
            "35cbf086effd4c78b6bf07ce3d214ec4",
            "90e718f808be480688f0b361b7573cd5",
            "a33a66233b354510b2d1f15c094468d2",
            "791d410063644f74a205307cb82382a1",
            "f7d5367cb0244aa0a3edef1f35c2f104",
            "6bb960bae2fd48ed8b50bfa09a749a85",
            "2335c24c1a214cf29e4ba6b288274fce",
            "8dcf175fac814fe7b0a533f593fb1aa6",
            "caafc395800c4f658f624d8735dd633f",
            "ad4a0ac601554b90968c22a50aae33b8",
            "da63233f383f4b7e865ab8c4aa38c072",
            "b4f94f82f93d49a792de3611e1ededf8",
            "7f16d312fa954ce8bfb26a2cc01d6ae6",
            "23c8fe9f561a4c0e97de22a7c8f4f86a",
            "c377bfb902254fd3b56ee3648fbeb7f3",
            "10a506555a704109a31eb835134a4241",
            "1fad39c9a6164d1c9071d92bfb702715",
            "6115c8fdcda548838def69f54b6b0fc8",
            "296ee30bfbbc4b9f990cdb95e912c532",
            "f16257ab5fb540bb98e5cd4da1dbbadf",
            "ff6e34b524c24402a1429a586c550f8b",
            "138a653bfc2c4ba99e5161bf22d9cd8c",
            "6f6dd0b61f724aa999653c71a46a2db8",
            "5d2e3d16a4df4f5ca2e49e87755e1d89",
            "e9b151a2d2df47a38c3da89359e5be63",
            "2e5715c74f094c2f8ea90ccefa9fb652",
            "6e87b9210ec34d419358638768b8abe3",
            "7af8498dbc2d46a29848c84c5e44761b",
            "c60513c3f63d4e299ec8ec9303e1e9be",
            "c153e4cc2b1c4c6598ea4f0239310993",
            "79e509edde46440db4333dc3d0b9e449",
            "8c99a1a729c048318d0bbbcb2de0b8af",
            "7af0fc82cf804fa4a7b198da8d2873f8",
            "7f7f7c2edcce4637968d9733348b6c77",
            "5bae8e1893424d8aabb6b5151782788e",
            "b63dee4a37b24254a9223bc45f435d83",
            "dabeb162887e4a0ab2721a906fdb3d16"
          ]
        },
        "outputId": "6635e8bf-7715-4f0a-d226-3e5ea1a533c2"
      },
      "execution_count": 53,
      "outputs": [
        {
          "output_type": "stream",
          "name": "stderr",
          "text": [
            "<ipython-input-53-2e9a08727377>:8: TqdmDeprecationWarning: This function will be removed in tqdm==5.0.0\n",
            "Please use `tqdm.notebook.tqdm` instead of `tqdm.tqdm_notebook`\n",
            "  with tqdm(total=len(dataloader_train), unit=\"batch\") as pbar:\n"
          ]
        },
        {
          "output_type": "display_data",
          "data": {
            "text/plain": [
              "  0%|          | 0/114 [00:00<?, ?batch/s]"
            ],
            "application/vnd.jupyter.widget-view+json": {
              "version_major": 2,
              "version_minor": 0,
              "model_id": "bd9583c12c7e41da9788ee10a6b46a9e"
            }
          },
          "metadata": {}
        },
        {
          "output_type": "stream",
          "name": "stderr",
          "text": [
            "<ipython-input-53-2e9a08727377>:22: TqdmDeprecationWarning: This function will be removed in tqdm==5.0.0\n",
            "Please use `tqdm.notebook.tqdm` instead of `tqdm.tqdm_notebook`\n",
            "  with tqdm(total=len(dataloader_valid), unit=\"batch\") as pbar:\n"
          ]
        },
        {
          "output_type": "display_data",
          "data": {
            "text/plain": [
              "  0%|          | 0/7 [00:00<?, ?batch/s]"
            ],
            "application/vnd.jupyter.widget-view+json": {
              "version_major": 2,
              "version_minor": 0,
              "model_id": "8b83b5d614d742b0922c4b309c6d35f3"
            }
          },
          "metadata": {}
        },
        {
          "output_type": "display_data",
          "data": {
            "text/plain": [
              "  0%|          | 0/114 [00:00<?, ?batch/s]"
            ],
            "application/vnd.jupyter.widget-view+json": {
              "version_major": 2,
              "version_minor": 0,
              "model_id": "28f97fddacee4f949eb65e4004bb312f"
            }
          },
          "metadata": {}
        },
        {
          "output_type": "display_data",
          "data": {
            "text/plain": [
              "  0%|          | 0/7 [00:00<?, ?batch/s]"
            ],
            "application/vnd.jupyter.widget-view+json": {
              "version_major": 2,
              "version_minor": 0,
              "model_id": "9e9ee395b83a4087a765729382480b96"
            }
          },
          "metadata": {}
        },
        {
          "output_type": "display_data",
          "data": {
            "text/plain": [
              "  0%|          | 0/114 [00:00<?, ?batch/s]"
            ],
            "application/vnd.jupyter.widget-view+json": {
              "version_major": 2,
              "version_minor": 0,
              "model_id": "fb3197825a0e4809a895b14ade803cdd"
            }
          },
          "metadata": {}
        },
        {
          "output_type": "display_data",
          "data": {
            "text/plain": [
              "  0%|          | 0/7 [00:00<?, ?batch/s]"
            ],
            "application/vnd.jupyter.widget-view+json": {
              "version_major": 2,
              "version_minor": 0,
              "model_id": "e5450c67e2814e7293962a6f99c26140"
            }
          },
          "metadata": {}
        },
        {
          "output_type": "display_data",
          "data": {
            "text/plain": [
              "  0%|          | 0/114 [00:00<?, ?batch/s]"
            ],
            "application/vnd.jupyter.widget-view+json": {
              "version_major": 2,
              "version_minor": 0,
              "model_id": "9a17addbff754cd1b6bf7364858a30c8"
            }
          },
          "metadata": {}
        },
        {
          "output_type": "display_data",
          "data": {
            "text/plain": [
              "  0%|          | 0/7 [00:00<?, ?batch/s]"
            ],
            "application/vnd.jupyter.widget-view+json": {
              "version_major": 2,
              "version_minor": 0,
              "model_id": "fa1e668de5f64c4184872e0013df5e68"
            }
          },
          "metadata": {}
        },
        {
          "output_type": "display_data",
          "data": {
            "text/plain": [
              "  0%|          | 0/114 [00:00<?, ?batch/s]"
            ],
            "application/vnd.jupyter.widget-view+json": {
              "version_major": 2,
              "version_minor": 0,
              "model_id": "291f099a2fcd4535839dc1c58972bc77"
            }
          },
          "metadata": {}
        },
        {
          "output_type": "display_data",
          "data": {
            "text/plain": [
              "  0%|          | 0/7 [00:00<?, ?batch/s]"
            ],
            "application/vnd.jupyter.widget-view+json": {
              "version_major": 2,
              "version_minor": 0,
              "model_id": "60a4107d962c484d8c8a9be775315a5e"
            }
          },
          "metadata": {}
        },
        {
          "output_type": "display_data",
          "data": {
            "text/plain": [
              "  0%|          | 0/114 [00:00<?, ?batch/s]"
            ],
            "application/vnd.jupyter.widget-view+json": {
              "version_major": 2,
              "version_minor": 0,
              "model_id": "3d01f14bb0374942ad5adffc5f154267"
            }
          },
          "metadata": {}
        },
        {
          "output_type": "display_data",
          "data": {
            "text/plain": [
              "  0%|          | 0/7 [00:00<?, ?batch/s]"
            ],
            "application/vnd.jupyter.widget-view+json": {
              "version_major": 2,
              "version_minor": 0,
              "model_id": "1f825239d12b497e8e0ab4ceea93c1b0"
            }
          },
          "metadata": {}
        },
        {
          "output_type": "display_data",
          "data": {
            "text/plain": [
              "  0%|          | 0/114 [00:00<?, ?batch/s]"
            ],
            "application/vnd.jupyter.widget-view+json": {
              "version_major": 2,
              "version_minor": 0,
              "model_id": "4f9ababf55fc48dd97affbe8fa94694d"
            }
          },
          "metadata": {}
        },
        {
          "output_type": "display_data",
          "data": {
            "text/plain": [
              "  0%|          | 0/7 [00:00<?, ?batch/s]"
            ],
            "application/vnd.jupyter.widget-view+json": {
              "version_major": 2,
              "version_minor": 0,
              "model_id": "3157d740e5d24343bff099b37f6716d8"
            }
          },
          "metadata": {}
        },
        {
          "output_type": "display_data",
          "data": {
            "text/plain": [
              "  0%|          | 0/114 [00:00<?, ?batch/s]"
            ],
            "application/vnd.jupyter.widget-view+json": {
              "version_major": 2,
              "version_minor": 0,
              "model_id": "1004d7afb1d8463ebc3a8ca11b7fdf23"
            }
          },
          "metadata": {}
        },
        {
          "output_type": "display_data",
          "data": {
            "text/plain": [
              "  0%|          | 0/7 [00:00<?, ?batch/s]"
            ],
            "application/vnd.jupyter.widget-view+json": {
              "version_major": 2,
              "version_minor": 0,
              "model_id": "f4ee34fac78c46f097d131b2a40d9256"
            }
          },
          "metadata": {}
        },
        {
          "output_type": "display_data",
          "data": {
            "text/plain": [
              "  0%|          | 0/114 [00:00<?, ?batch/s]"
            ],
            "application/vnd.jupyter.widget-view+json": {
              "version_major": 2,
              "version_minor": 0,
              "model_id": "a16e668a118d46ad873545f0e12334f8"
            }
          },
          "metadata": {}
        },
        {
          "output_type": "display_data",
          "data": {
            "text/plain": [
              "  0%|          | 0/7 [00:00<?, ?batch/s]"
            ],
            "application/vnd.jupyter.widget-view+json": {
              "version_major": 2,
              "version_minor": 0,
              "model_id": "b570b6a6cfa9435082cfb389bf9ded34"
            }
          },
          "metadata": {}
        },
        {
          "output_type": "display_data",
          "data": {
            "text/plain": [
              "  0%|          | 0/114 [00:00<?, ?batch/s]"
            ],
            "application/vnd.jupyter.widget-view+json": {
              "version_major": 2,
              "version_minor": 0,
              "model_id": "4ce7000f012f4353adb358d434d4fcec"
            }
          },
          "metadata": {}
        },
        {
          "output_type": "display_data",
          "data": {
            "text/plain": [
              "  0%|          | 0/7 [00:00<?, ?batch/s]"
            ],
            "application/vnd.jupyter.widget-view+json": {
              "version_major": 2,
              "version_minor": 0,
              "model_id": "6f22a34abce3484a946dce2c5538eb1d"
            }
          },
          "metadata": {}
        },
        {
          "output_type": "display_data",
          "data": {
            "text/plain": [
              "  0%|          | 0/114 [00:00<?, ?batch/s]"
            ],
            "application/vnd.jupyter.widget-view+json": {
              "version_major": 2,
              "version_minor": 0,
              "model_id": "7ff6e477390a45c285789c953b192d5c"
            }
          },
          "metadata": {}
        },
        {
          "output_type": "display_data",
          "data": {
            "text/plain": [
              "  0%|          | 0/7 [00:00<?, ?batch/s]"
            ],
            "application/vnd.jupyter.widget-view+json": {
              "version_major": 2,
              "version_minor": 0,
              "model_id": "197db63a60284c9399c9ee207ab75478"
            }
          },
          "metadata": {}
        },
        {
          "output_type": "display_data",
          "data": {
            "text/plain": [
              "  0%|          | 0/114 [00:00<?, ?batch/s]"
            ],
            "application/vnd.jupyter.widget-view+json": {
              "version_major": 2,
              "version_minor": 0,
              "model_id": "310bfe40b82f45feafb58d7982fc5c99"
            }
          },
          "metadata": {}
        },
        {
          "output_type": "display_data",
          "data": {
            "text/plain": [
              "  0%|          | 0/7 [00:00<?, ?batch/s]"
            ],
            "application/vnd.jupyter.widget-view+json": {
              "version_major": 2,
              "version_minor": 0,
              "model_id": "6569af853106476f91faa3dfb88876d1"
            }
          },
          "metadata": {}
        },
        {
          "output_type": "display_data",
          "data": {
            "text/plain": [
              "  0%|          | 0/114 [00:00<?, ?batch/s]"
            ],
            "application/vnd.jupyter.widget-view+json": {
              "version_major": 2,
              "version_minor": 0,
              "model_id": "38a3a593fe65416c8eea8217bbce3f23"
            }
          },
          "metadata": {}
        },
        {
          "output_type": "display_data",
          "data": {
            "text/plain": [
              "  0%|          | 0/7 [00:00<?, ?batch/s]"
            ],
            "application/vnd.jupyter.widget-view+json": {
              "version_major": 2,
              "version_minor": 0,
              "model_id": "1da05ff764fa44b99660af8334992080"
            }
          },
          "metadata": {}
        },
        {
          "output_type": "display_data",
          "data": {
            "text/plain": [
              "  0%|          | 0/114 [00:00<?, ?batch/s]"
            ],
            "application/vnd.jupyter.widget-view+json": {
              "version_major": 2,
              "version_minor": 0,
              "model_id": "ec8638d0391a4724b6b9f5792815c5c2"
            }
          },
          "metadata": {}
        },
        {
          "output_type": "display_data",
          "data": {
            "text/plain": [
              "  0%|          | 0/7 [00:00<?, ?batch/s]"
            ],
            "application/vnd.jupyter.widget-view+json": {
              "version_major": 2,
              "version_minor": 0,
              "model_id": "90ecacf2a20a4b8a8d8b98d08471e594"
            }
          },
          "metadata": {}
        },
        {
          "output_type": "display_data",
          "data": {
            "text/plain": [
              "  0%|          | 0/114 [00:00<?, ?batch/s]"
            ],
            "application/vnd.jupyter.widget-view+json": {
              "version_major": 2,
              "version_minor": 0,
              "model_id": "7f28a72f5c7445e596e5a4297c115c88"
            }
          },
          "metadata": {}
        },
        {
          "output_type": "display_data",
          "data": {
            "text/plain": [
              "  0%|          | 0/7 [00:00<?, ?batch/s]"
            ],
            "application/vnd.jupyter.widget-view+json": {
              "version_major": 2,
              "version_minor": 0,
              "model_id": "4a3583a730ca4bb99be9d034217ebff0"
            }
          },
          "metadata": {}
        },
        {
          "output_type": "display_data",
          "data": {
            "text/plain": [
              "  0%|          | 0/114 [00:00<?, ?batch/s]"
            ],
            "application/vnd.jupyter.widget-view+json": {
              "version_major": 2,
              "version_minor": 0,
              "model_id": "dcab591f55ea4950add88ee7b741d9a2"
            }
          },
          "metadata": {}
        },
        {
          "output_type": "display_data",
          "data": {
            "text/plain": [
              "  0%|          | 0/7 [00:00<?, ?batch/s]"
            ],
            "application/vnd.jupyter.widget-view+json": {
              "version_major": 2,
              "version_minor": 0,
              "model_id": "d737509c4b9e4ca58637e7e5e57ca5ae"
            }
          },
          "metadata": {}
        },
        {
          "output_type": "display_data",
          "data": {
            "text/plain": [
              "  0%|          | 0/114 [00:00<?, ?batch/s]"
            ],
            "application/vnd.jupyter.widget-view+json": {
              "version_major": 2,
              "version_minor": 0,
              "model_id": "8c07b021473f44728e15e669d3ed9d46"
            }
          },
          "metadata": {}
        },
        {
          "output_type": "display_data",
          "data": {
            "text/plain": [
              "  0%|          | 0/7 [00:00<?, ?batch/s]"
            ],
            "application/vnd.jupyter.widget-view+json": {
              "version_major": 2,
              "version_minor": 0,
              "model_id": "6e74a4c4c1fd4fc98674f543f6e40398"
            }
          },
          "metadata": {}
        },
        {
          "output_type": "display_data",
          "data": {
            "text/plain": [
              "  0%|          | 0/114 [00:00<?, ?batch/s]"
            ],
            "application/vnd.jupyter.widget-view+json": {
              "version_major": 2,
              "version_minor": 0,
              "model_id": "35fdb5491f724a3991db268e301cc0e3"
            }
          },
          "metadata": {}
        },
        {
          "output_type": "display_data",
          "data": {
            "text/plain": [
              "  0%|          | 0/7 [00:00<?, ?batch/s]"
            ],
            "application/vnd.jupyter.widget-view+json": {
              "version_major": 2,
              "version_minor": 0,
              "model_id": "f7136c417d0e49d0b544ff0ad636bce2"
            }
          },
          "metadata": {}
        },
        {
          "output_type": "display_data",
          "data": {
            "text/plain": [
              "  0%|          | 0/114 [00:00<?, ?batch/s]"
            ],
            "application/vnd.jupyter.widget-view+json": {
              "version_major": 2,
              "version_minor": 0,
              "model_id": "c40fc76e5002458a992ace5d08ffa2ca"
            }
          },
          "metadata": {}
        },
        {
          "output_type": "display_data",
          "data": {
            "text/plain": [
              "  0%|          | 0/7 [00:00<?, ?batch/s]"
            ],
            "application/vnd.jupyter.widget-view+json": {
              "version_major": 2,
              "version_minor": 0,
              "model_id": "0b1a010a0434441fa8a568f629b717b2"
            }
          },
          "metadata": {}
        },
        {
          "output_type": "display_data",
          "data": {
            "text/plain": [
              "  0%|          | 0/114 [00:00<?, ?batch/s]"
            ],
            "application/vnd.jupyter.widget-view+json": {
              "version_major": 2,
              "version_minor": 0,
              "model_id": "cb56f41af10a4b9b8e0ee037613d6c3c"
            }
          },
          "metadata": {}
        },
        {
          "output_type": "display_data",
          "data": {
            "text/plain": [
              "  0%|          | 0/7 [00:00<?, ?batch/s]"
            ],
            "application/vnd.jupyter.widget-view+json": {
              "version_major": 2,
              "version_minor": 0,
              "model_id": "692883e5df904bd2977cec8ad1d2945b"
            }
          },
          "metadata": {}
        },
        {
          "output_type": "display_data",
          "data": {
            "text/plain": [
              "  0%|          | 0/114 [00:00<?, ?batch/s]"
            ],
            "application/vnd.jupyter.widget-view+json": {
              "version_major": 2,
              "version_minor": 0,
              "model_id": "99ce7421c36944019f27c462c0c5b0f4"
            }
          },
          "metadata": {}
        },
        {
          "output_type": "display_data",
          "data": {
            "text/plain": [
              "  0%|          | 0/7 [00:00<?, ?batch/s]"
            ],
            "application/vnd.jupyter.widget-view+json": {
              "version_major": 2,
              "version_minor": 0,
              "model_id": "b3a1ce605ed44346b8a15d9ca8dd7c4b"
            }
          },
          "metadata": {}
        },
        {
          "output_type": "display_data",
          "data": {
            "text/plain": [
              "  0%|          | 0/114 [00:00<?, ?batch/s]"
            ],
            "application/vnd.jupyter.widget-view+json": {
              "version_major": 2,
              "version_minor": 0,
              "model_id": "73f7af9c4f9c46fa974c664fffe4cbc7"
            }
          },
          "metadata": {}
        },
        {
          "output_type": "display_data",
          "data": {
            "text/plain": [
              "  0%|          | 0/7 [00:00<?, ?batch/s]"
            ],
            "application/vnd.jupyter.widget-view+json": {
              "version_major": 2,
              "version_minor": 0,
              "model_id": "ef53b71fcdfc4c6e92b34e26fad29ce3"
            }
          },
          "metadata": {}
        },
        {
          "output_type": "display_data",
          "data": {
            "text/plain": [
              "  0%|          | 0/114 [00:00<?, ?batch/s]"
            ],
            "application/vnd.jupyter.widget-view+json": {
              "version_major": 2,
              "version_minor": 0,
              "model_id": "6c1430077601406db6a3a13002a3170e"
            }
          },
          "metadata": {}
        },
        {
          "output_type": "display_data",
          "data": {
            "text/plain": [
              "  0%|          | 0/7 [00:00<?, ?batch/s]"
            ],
            "application/vnd.jupyter.widget-view+json": {
              "version_major": 2,
              "version_minor": 0,
              "model_id": "4263883b43e94f94a5f4c4062257d073"
            }
          },
          "metadata": {}
        },
        {
          "output_type": "display_data",
          "data": {
            "text/plain": [
              "  0%|          | 0/114 [00:00<?, ?batch/s]"
            ],
            "application/vnd.jupyter.widget-view+json": {
              "version_major": 2,
              "version_minor": 0,
              "model_id": "8cd86ab73f14449e81ab79f1f75c5e4d"
            }
          },
          "metadata": {}
        },
        {
          "output_type": "display_data",
          "data": {
            "text/plain": [
              "  0%|          | 0/7 [00:00<?, ?batch/s]"
            ],
            "application/vnd.jupyter.widget-view+json": {
              "version_major": 2,
              "version_minor": 0,
              "model_id": "2a2029300fd2420eac37686ab42794cb"
            }
          },
          "metadata": {}
        },
        {
          "output_type": "display_data",
          "data": {
            "text/plain": [
              "  0%|          | 0/114 [00:00<?, ?batch/s]"
            ],
            "application/vnd.jupyter.widget-view+json": {
              "version_major": 2,
              "version_minor": 0,
              "model_id": "63e5f95190c9430c8d25abc906b71548"
            }
          },
          "metadata": {}
        },
        {
          "output_type": "display_data",
          "data": {
            "text/plain": [
              "  0%|          | 0/7 [00:00<?, ?batch/s]"
            ],
            "application/vnd.jupyter.widget-view+json": {
              "version_major": 2,
              "version_minor": 0,
              "model_id": "d0cbb4f699a743019cf885c8cf72724f"
            }
          },
          "metadata": {}
        },
        {
          "output_type": "display_data",
          "data": {
            "text/plain": [
              "  0%|          | 0/114 [00:00<?, ?batch/s]"
            ],
            "application/vnd.jupyter.widget-view+json": {
              "version_major": 2,
              "version_minor": 0,
              "model_id": "0e65d6b18d73422cb3ab6b9b9a4d2e2c"
            }
          },
          "metadata": {}
        },
        {
          "output_type": "display_data",
          "data": {
            "text/plain": [
              "  0%|          | 0/7 [00:00<?, ?batch/s]"
            ],
            "application/vnd.jupyter.widget-view+json": {
              "version_major": 2,
              "version_minor": 0,
              "model_id": "49799a5066f64ec79888b72cba23f1e6"
            }
          },
          "metadata": {}
        },
        {
          "output_type": "display_data",
          "data": {
            "text/plain": [
              "  0%|          | 0/114 [00:00<?, ?batch/s]"
            ],
            "application/vnd.jupyter.widget-view+json": {
              "version_major": 2,
              "version_minor": 0,
              "model_id": "4232a48f44244eaea9806a7b49b5b3fb"
            }
          },
          "metadata": {}
        },
        {
          "output_type": "display_data",
          "data": {
            "text/plain": [
              "  0%|          | 0/7 [00:00<?, ?batch/s]"
            ],
            "application/vnd.jupyter.widget-view+json": {
              "version_major": 2,
              "version_minor": 0,
              "model_id": "1e1150cbfab04b648a67e36cd48c9cc8"
            }
          },
          "metadata": {}
        },
        {
          "output_type": "display_data",
          "data": {
            "text/plain": [
              "  0%|          | 0/114 [00:00<?, ?batch/s]"
            ],
            "application/vnd.jupyter.widget-view+json": {
              "version_major": 2,
              "version_minor": 0,
              "model_id": "ba6f271a37bb4bb9b4eb2e52e93c3fa4"
            }
          },
          "metadata": {}
        },
        {
          "output_type": "display_data",
          "data": {
            "text/plain": [
              "  0%|          | 0/7 [00:00<?, ?batch/s]"
            ],
            "application/vnd.jupyter.widget-view+json": {
              "version_major": 2,
              "version_minor": 0,
              "model_id": "6a51f869d8904b6b81205d6601595c60"
            }
          },
          "metadata": {}
        },
        {
          "output_type": "display_data",
          "data": {
            "text/plain": [
              "  0%|          | 0/114 [00:00<?, ?batch/s]"
            ],
            "application/vnd.jupyter.widget-view+json": {
              "version_major": 2,
              "version_minor": 0,
              "model_id": "a95a14f0733141f48bad2c90d92335ca"
            }
          },
          "metadata": {}
        },
        {
          "output_type": "display_data",
          "data": {
            "text/plain": [
              "  0%|          | 0/7 [00:00<?, ?batch/s]"
            ],
            "application/vnd.jupyter.widget-view+json": {
              "version_major": 2,
              "version_minor": 0,
              "model_id": "54e1fd4496cf446c83e376e677eefb4b"
            }
          },
          "metadata": {}
        },
        {
          "output_type": "display_data",
          "data": {
            "text/plain": [
              "  0%|          | 0/114 [00:00<?, ?batch/s]"
            ],
            "application/vnd.jupyter.widget-view+json": {
              "version_major": 2,
              "version_minor": 0,
              "model_id": "a5dc8bd9989d48eb94e1b485f388e133"
            }
          },
          "metadata": {}
        },
        {
          "output_type": "display_data",
          "data": {
            "text/plain": [
              "  0%|          | 0/7 [00:00<?, ?batch/s]"
            ],
            "application/vnd.jupyter.widget-view+json": {
              "version_major": 2,
              "version_minor": 0,
              "model_id": "bf2efed55a9b44559d6a4051af918c15"
            }
          },
          "metadata": {}
        },
        {
          "output_type": "display_data",
          "data": {
            "text/plain": [
              "  0%|          | 0/114 [00:00<?, ?batch/s]"
            ],
            "application/vnd.jupyter.widget-view+json": {
              "version_major": 2,
              "version_minor": 0,
              "model_id": "29d7a7a308804e55a3b20c475ff4fa3e"
            }
          },
          "metadata": {}
        },
        {
          "output_type": "display_data",
          "data": {
            "text/plain": [
              "  0%|          | 0/7 [00:00<?, ?batch/s]"
            ],
            "application/vnd.jupyter.widget-view+json": {
              "version_major": 2,
              "version_minor": 0,
              "model_id": "95d29ca889fb43dda7097918fd2b8740"
            }
          },
          "metadata": {}
        },
        {
          "output_type": "display_data",
          "data": {
            "text/plain": [
              "  0%|          | 0/114 [00:00<?, ?batch/s]"
            ],
            "application/vnd.jupyter.widget-view+json": {
              "version_major": 2,
              "version_minor": 0,
              "model_id": "c343d26d85d44a5d8277ee1c8a1b3a1f"
            }
          },
          "metadata": {}
        },
        {
          "output_type": "display_data",
          "data": {
            "text/plain": [
              "  0%|          | 0/7 [00:00<?, ?batch/s]"
            ],
            "application/vnd.jupyter.widget-view+json": {
              "version_major": 2,
              "version_minor": 0,
              "model_id": "46af9573ff8e4f389a11b26d9f7fd388"
            }
          },
          "metadata": {}
        },
        {
          "output_type": "display_data",
          "data": {
            "text/plain": [
              "  0%|          | 0/114 [00:00<?, ?batch/s]"
            ],
            "application/vnd.jupyter.widget-view+json": {
              "version_major": 2,
              "version_minor": 0,
              "model_id": "3cffe6e5323044178b01635d1d80b535"
            }
          },
          "metadata": {}
        },
        {
          "output_type": "display_data",
          "data": {
            "text/plain": [
              "  0%|          | 0/7 [00:00<?, ?batch/s]"
            ],
            "application/vnd.jupyter.widget-view+json": {
              "version_major": 2,
              "version_minor": 0,
              "model_id": "625a95d74b9d458ab47dcfc65f4f58e6"
            }
          },
          "metadata": {}
        },
        {
          "output_type": "display_data",
          "data": {
            "text/plain": [
              "  0%|          | 0/114 [00:00<?, ?batch/s]"
            ],
            "application/vnd.jupyter.widget-view+json": {
              "version_major": 2,
              "version_minor": 0,
              "model_id": "8c10522d4f5d4e16b9bade8e0d30d12b"
            }
          },
          "metadata": {}
        },
        {
          "output_type": "display_data",
          "data": {
            "text/plain": [
              "  0%|          | 0/7 [00:00<?, ?batch/s]"
            ],
            "application/vnd.jupyter.widget-view+json": {
              "version_major": 2,
              "version_minor": 0,
              "model_id": "13c704873f2f46049a902e7293ae11b7"
            }
          },
          "metadata": {}
        },
        {
          "output_type": "display_data",
          "data": {
            "text/plain": [
              "  0%|          | 0/114 [00:00<?, ?batch/s]"
            ],
            "application/vnd.jupyter.widget-view+json": {
              "version_major": 2,
              "version_minor": 0,
              "model_id": "8a192efe26214fdf87250be188b12a85"
            }
          },
          "metadata": {}
        },
        {
          "output_type": "display_data",
          "data": {
            "text/plain": [
              "  0%|          | 0/7 [00:00<?, ?batch/s]"
            ],
            "application/vnd.jupyter.widget-view+json": {
              "version_major": 2,
              "version_minor": 0,
              "model_id": "6256ed9a150643a9a70aeb2f4638b28f"
            }
          },
          "metadata": {}
        },
        {
          "output_type": "display_data",
          "data": {
            "text/plain": [
              "  0%|          | 0/114 [00:00<?, ?batch/s]"
            ],
            "application/vnd.jupyter.widget-view+json": {
              "version_major": 2,
              "version_minor": 0,
              "model_id": "c084598cb1b64ee59d5b2b942c0446a9"
            }
          },
          "metadata": {}
        },
        {
          "output_type": "display_data",
          "data": {
            "text/plain": [
              "  0%|          | 0/7 [00:00<?, ?batch/s]"
            ],
            "application/vnd.jupyter.widget-view+json": {
              "version_major": 2,
              "version_minor": 0,
              "model_id": "bd30df46d87c489c8fa5390251bfe230"
            }
          },
          "metadata": {}
        },
        {
          "output_type": "display_data",
          "data": {
            "text/plain": [
              "  0%|          | 0/114 [00:00<?, ?batch/s]"
            ],
            "application/vnd.jupyter.widget-view+json": {
              "version_major": 2,
              "version_minor": 0,
              "model_id": "e8a1b49374ae4977bf779cb7045e0862"
            }
          },
          "metadata": {}
        },
        {
          "output_type": "display_data",
          "data": {
            "text/plain": [
              "  0%|          | 0/7 [00:00<?, ?batch/s]"
            ],
            "application/vnd.jupyter.widget-view+json": {
              "version_major": 2,
              "version_minor": 0,
              "model_id": "863c5b299be84358b8b61b1958680ece"
            }
          },
          "metadata": {}
        },
        {
          "output_type": "display_data",
          "data": {
            "text/plain": [
              "  0%|          | 0/114 [00:00<?, ?batch/s]"
            ],
            "application/vnd.jupyter.widget-view+json": {
              "version_major": 2,
              "version_minor": 0,
              "model_id": "7f20e95579c147daad92324438065dce"
            }
          },
          "metadata": {}
        },
        {
          "output_type": "display_data",
          "data": {
            "text/plain": [
              "  0%|          | 0/7 [00:00<?, ?batch/s]"
            ],
            "application/vnd.jupyter.widget-view+json": {
              "version_major": 2,
              "version_minor": 0,
              "model_id": "441e474cbb1c419a945e6f56bf648c79"
            }
          },
          "metadata": {}
        },
        {
          "output_type": "display_data",
          "data": {
            "text/plain": [
              "  0%|          | 0/114 [00:00<?, ?batch/s]"
            ],
            "application/vnd.jupyter.widget-view+json": {
              "version_major": 2,
              "version_minor": 0,
              "model_id": "0b4f7ec3131846d6b1fe9115688a9e3f"
            }
          },
          "metadata": {}
        },
        {
          "output_type": "display_data",
          "data": {
            "text/plain": [
              "  0%|          | 0/7 [00:00<?, ?batch/s]"
            ],
            "application/vnd.jupyter.widget-view+json": {
              "version_major": 2,
              "version_minor": 0,
              "model_id": "b9d6630b04564a3a854ada62f95ca38f"
            }
          },
          "metadata": {}
        },
        {
          "output_type": "display_data",
          "data": {
            "text/plain": [
              "  0%|          | 0/114 [00:00<?, ?batch/s]"
            ],
            "application/vnd.jupyter.widget-view+json": {
              "version_major": 2,
              "version_minor": 0,
              "model_id": "9250367d060342ce9517a2280e3b311b"
            }
          },
          "metadata": {}
        },
        {
          "output_type": "display_data",
          "data": {
            "text/plain": [
              "  0%|          | 0/7 [00:00<?, ?batch/s]"
            ],
            "application/vnd.jupyter.widget-view+json": {
              "version_major": 2,
              "version_minor": 0,
              "model_id": "35ea638ad62041a69cbf90d40260fa0e"
            }
          },
          "metadata": {}
        },
        {
          "output_type": "display_data",
          "data": {
            "text/plain": [
              "  0%|          | 0/114 [00:00<?, ?batch/s]"
            ],
            "application/vnd.jupyter.widget-view+json": {
              "version_major": 2,
              "version_minor": 0,
              "model_id": "6e74b5f1520c4440928944c1e3c17d8a"
            }
          },
          "metadata": {}
        },
        {
          "output_type": "display_data",
          "data": {
            "text/plain": [
              "  0%|          | 0/7 [00:00<?, ?batch/s]"
            ],
            "application/vnd.jupyter.widget-view+json": {
              "version_major": 2,
              "version_minor": 0,
              "model_id": "f06960c7dc9647be844b7cfe899e7dfe"
            }
          },
          "metadata": {}
        },
        {
          "output_type": "display_data",
          "data": {
            "text/plain": [
              "  0%|          | 0/114 [00:00<?, ?batch/s]"
            ],
            "application/vnd.jupyter.widget-view+json": {
              "version_major": 2,
              "version_minor": 0,
              "model_id": "12812cc3f45f443eb58c23b59b795434"
            }
          },
          "metadata": {}
        },
        {
          "output_type": "display_data",
          "data": {
            "text/plain": [
              "  0%|          | 0/7 [00:00<?, ?batch/s]"
            ],
            "application/vnd.jupyter.widget-view+json": {
              "version_major": 2,
              "version_minor": 0,
              "model_id": "622a6ccad4c94f9caf55337ef46a3125"
            }
          },
          "metadata": {}
        },
        {
          "output_type": "display_data",
          "data": {
            "text/plain": [
              "  0%|          | 0/114 [00:00<?, ?batch/s]"
            ],
            "application/vnd.jupyter.widget-view+json": {
              "version_major": 2,
              "version_minor": 0,
              "model_id": "c6eb5190f0764d258f879cf1f1184962"
            }
          },
          "metadata": {}
        },
        {
          "output_type": "display_data",
          "data": {
            "text/plain": [
              "  0%|          | 0/7 [00:00<?, ?batch/s]"
            ],
            "application/vnd.jupyter.widget-view+json": {
              "version_major": 2,
              "version_minor": 0,
              "model_id": "d7b33aaeee3943d6ab53d382bbb881b7"
            }
          },
          "metadata": {}
        },
        {
          "output_type": "display_data",
          "data": {
            "text/plain": [
              "  0%|          | 0/114 [00:00<?, ?batch/s]"
            ],
            "application/vnd.jupyter.widget-view+json": {
              "version_major": 2,
              "version_minor": 0,
              "model_id": "bf37803d78054eebb0a9e9ee20e2e4dd"
            }
          },
          "metadata": {}
        },
        {
          "output_type": "display_data",
          "data": {
            "text/plain": [
              "  0%|          | 0/7 [00:00<?, ?batch/s]"
            ],
            "application/vnd.jupyter.widget-view+json": {
              "version_major": 2,
              "version_minor": 0,
              "model_id": "cefe1198fa0e4cf3a834fc5ef6b78765"
            }
          },
          "metadata": {}
        },
        {
          "output_type": "display_data",
          "data": {
            "text/plain": [
              "  0%|          | 0/114 [00:00<?, ?batch/s]"
            ],
            "application/vnd.jupyter.widget-view+json": {
              "version_major": 2,
              "version_minor": 0,
              "model_id": "3f63de94c7b643c2ba36919bc76c9c53"
            }
          },
          "metadata": {}
        },
        {
          "output_type": "display_data",
          "data": {
            "text/plain": [
              "  0%|          | 0/7 [00:00<?, ?batch/s]"
            ],
            "application/vnd.jupyter.widget-view+json": {
              "version_major": 2,
              "version_minor": 0,
              "model_id": "fac740390ee44576b266f7395dd035d9"
            }
          },
          "metadata": {}
        },
        {
          "output_type": "display_data",
          "data": {
            "text/plain": [
              "  0%|          | 0/114 [00:00<?, ?batch/s]"
            ],
            "application/vnd.jupyter.widget-view+json": {
              "version_major": 2,
              "version_minor": 0,
              "model_id": "6656124e7cdb482fa5475a63a1a8c717"
            }
          },
          "metadata": {}
        },
        {
          "output_type": "display_data",
          "data": {
            "text/plain": [
              "  0%|          | 0/7 [00:00<?, ?batch/s]"
            ],
            "application/vnd.jupyter.widget-view+json": {
              "version_major": 2,
              "version_minor": 0,
              "model_id": "ca0d7b0309c64eb3b0fcd7390e932aca"
            }
          },
          "metadata": {}
        },
        {
          "output_type": "display_data",
          "data": {
            "text/plain": [
              "  0%|          | 0/114 [00:00<?, ?batch/s]"
            ],
            "application/vnd.jupyter.widget-view+json": {
              "version_major": 2,
              "version_minor": 0,
              "model_id": "6b7bb043fa264391a993a4d91300a024"
            }
          },
          "metadata": {}
        },
        {
          "output_type": "display_data",
          "data": {
            "text/plain": [
              "  0%|          | 0/7 [00:00<?, ?batch/s]"
            ],
            "application/vnd.jupyter.widget-view+json": {
              "version_major": 2,
              "version_minor": 0,
              "model_id": "47667843628b4468bfc225c720ae1b86"
            }
          },
          "metadata": {}
        },
        {
          "output_type": "display_data",
          "data": {
            "text/plain": [
              "  0%|          | 0/114 [00:00<?, ?batch/s]"
            ],
            "application/vnd.jupyter.widget-view+json": {
              "version_major": 2,
              "version_minor": 0,
              "model_id": "7bf4b37e0fe74df18cf76bcfae96e1c3"
            }
          },
          "metadata": {}
        },
        {
          "output_type": "display_data",
          "data": {
            "text/plain": [
              "  0%|          | 0/7 [00:00<?, ?batch/s]"
            ],
            "application/vnd.jupyter.widget-view+json": {
              "version_major": 2,
              "version_minor": 0,
              "model_id": "075728e6a6404c56ad682e1a3f682667"
            }
          },
          "metadata": {}
        },
        {
          "output_type": "display_data",
          "data": {
            "text/plain": [
              "  0%|          | 0/114 [00:00<?, ?batch/s]"
            ],
            "application/vnd.jupyter.widget-view+json": {
              "version_major": 2,
              "version_minor": 0,
              "model_id": "c9b58197d86b4e5fb1aa96537dbf07c2"
            }
          },
          "metadata": {}
        },
        {
          "output_type": "display_data",
          "data": {
            "text/plain": [
              "  0%|          | 0/7 [00:00<?, ?batch/s]"
            ],
            "application/vnd.jupyter.widget-view+json": {
              "version_major": 2,
              "version_minor": 0,
              "model_id": "f7d5367cb0244aa0a3edef1f35c2f104"
            }
          },
          "metadata": {}
        },
        {
          "output_type": "display_data",
          "data": {
            "text/plain": [
              "  0%|          | 0/114 [00:00<?, ?batch/s]"
            ],
            "application/vnd.jupyter.widget-view+json": {
              "version_major": 2,
              "version_minor": 0,
              "model_id": "10a506555a704109a31eb835134a4241"
            }
          },
          "metadata": {}
        },
        {
          "output_type": "display_data",
          "data": {
            "text/plain": [
              "  0%|          | 0/7 [00:00<?, ?batch/s]"
            ],
            "application/vnd.jupyter.widget-view+json": {
              "version_major": 2,
              "version_minor": 0,
              "model_id": "6e87b9210ec34d419358638768b8abe3"
            }
          },
          "metadata": {}
        }
      ]
    },
    {
      "cell_type": "code",
      "source": [
        "# 提出ファイルの作成\n",
        "model.eval()\n",
        "t_pred = []\n",
        "\n",
        "for x in dataloader_test:\n",
        "    x = x.to(device)\n",
        "\n",
        "    # 順伝播\n",
        "    pred = model(x)\n",
        "    t_pred.extend(pred.cpu().detach().numpy())\n",
        "\n",
        "t_pred = np.array(t_pred)\n",
        "t_pred = t_pred.argmax(1).astype(np.uint8)\n",
        "np.save('drive/MyDrive/Colab Notebooks/DLBasics2025_colab/Lecture06/submission_pred.npy', t_pred)"
      ],
      "metadata": {
        "id": "QNknDVgUzS4z"
      },
      "execution_count": 49,
      "outputs": []
    },
    {
      "cell_type": "code",
      "source": [],
      "metadata": {
        "id": "2Fi7Kh7Fcl1X"
      },
      "execution_count": null,
      "outputs": []
    }
  ]
}